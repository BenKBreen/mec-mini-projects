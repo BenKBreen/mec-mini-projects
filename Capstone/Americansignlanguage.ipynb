{
 "cells": [
  {
   "cell_type": "markdown",
   "id": "706bed21-ffd9-415a-a9db-8ec3ee5d118f",
   "metadata": {
    "tags": []
   },
   "source": [
    "# Import"
   ]
  },
  {
   "cell_type": "code",
   "execution_count": 1,
   "id": "f71950e0-eb07-4731-972e-c51098476c64",
   "metadata": {},
   "outputs": [],
   "source": [
    "# imports\n",
    "import json\n",
    "import math\n",
    "import bisect\n",
    "import numpy as np\n",
    "import pandas as pd\n",
    "import mediapipe as mp\n",
    "import ipywidgets as widgets\n",
    "import tensorflow as tf\n",
    "import seaborn as sns\n",
    "from tslearn.clustering import TimeSeriesKMeans\n",
    "from sklearn.cluster import KMeans\n",
    "from mediapipe.framework.formats import landmark_pb2\n",
    "from fastai.vision.all import show_image\n",
    "from ipywidgets import interact, interactive, fixed, interact_manual\n",
    "from collections import Counter\n",
    "\n",
    "# functions\n",
    "mp_drawing = mp.solutions.drawing_utils\n",
    "mp_drawing_styles = mp.solutions.drawing_styles\n",
    "mp_holistic = mp.solutions.holistic"
   ]
  },
  {
   "cell_type": "markdown",
   "id": "004e67e3-7f55-40a1-8595-9b497cfb3009",
   "metadata": {},
   "source": [
    "# Data"
   ]
  },
  {
   "cell_type": "code",
   "execution_count": 2,
   "id": "53b5ebaa-4fef-44ee-be73-d8b2badbf093",
   "metadata": {},
   "outputs": [],
   "source": [
    "# path to a single data file\n",
    "file = '33432165'\n",
    "path_dataset = '/Volumes/My Passport for Mac/asl-fingerspelling/supplemental_landmarks/' + file + '.parquet'\n",
    "path_dataset_labels = '/Volumes/My Passport for Mac/asl-fingerspelling/supplemental_metadata.csv'\n",
    "dataset = pd.read_parquet(path_dataset)\n",
    "dataset_labels = pd.read_csv(path_dataset_labels)"
   ]
  },
  {
   "cell_type": "markdown",
   "id": "10ee5b15-cf37-4ddc-ad4f-6818b188ac31",
   "metadata": {},
   "source": [
    "## Video Selection"
   ]
  },
  {
   "cell_type": "code",
   "execution_count": 3,
   "id": "1d32bfb7-f60a-47a7-aefe-c11aa2ac016a",
   "metadata": {},
   "outputs": [
    {
     "data": {
      "text/html": [
       "<div>\n",
       "<style scoped>\n",
       "    .dataframe tbody tr th:only-of-type {\n",
       "        vertical-align: middle;\n",
       "    }\n",
       "\n",
       "    .dataframe tbody tr th {\n",
       "        vertical-align: top;\n",
       "    }\n",
       "\n",
       "    .dataframe thead th {\n",
       "        text-align: right;\n",
       "    }\n",
       "</style>\n",
       "<table border=\"1\" class=\"dataframe\">\n",
       "  <thead>\n",
       "    <tr style=\"text-align: right;\">\n",
       "      <th></th>\n",
       "      <th>path</th>\n",
       "      <th>file_id</th>\n",
       "      <th>sequence_id</th>\n",
       "      <th>participant_id</th>\n",
       "      <th>phrase</th>\n",
       "    </tr>\n",
       "  </thead>\n",
       "  <tbody>\n",
       "    <tr>\n",
       "      <th>4</th>\n",
       "      <td>supplemental_landmarks/33432165.parquet</td>\n",
       "      <td>33432165</td>\n",
       "      <td>1535585216</td>\n",
       "      <td>254</td>\n",
       "      <td>knee bone is connected to the thigh bone</td>\n",
       "    </tr>\n",
       "  </tbody>\n",
       "</table>\n",
       "</div>"
      ],
      "text/plain": [
       "                                      path   file_id  sequence_id  \\\n",
       "4  supplemental_landmarks/33432165.parquet  33432165   1535585216   \n",
       "\n",
       "   participant_id                                    phrase  \n",
       "4             254  knee bone is connected to the thigh bone  "
      ]
     },
     "execution_count": 3,
     "metadata": {},
     "output_type": "execute_result"
    }
   ],
   "source": [
    "# Video ID\n",
    "VideoID = dataset.index.unique() # 1000 total videos\n",
    "\n",
    "# Select a video\n",
    "s = 4\n",
    "seq_id = VideoID[s]  \n",
    "\n",
    "# Select video data\n",
    "data = dataset.loc[ seq_id ]\n",
    "data_labels = dataset_labels.loc[ dataset_labels['sequence_id'] == seq_id ]\n",
    "phrase = data_labels.phrase.iloc[0]\n",
    "\n",
    "# head\n",
    "data_labels.head()"
   ]
  },
  {
   "cell_type": "markdown",
   "id": "caecc49d-32c8-48c1-af27-ef38749901ec",
   "metadata": {},
   "source": [
    "# Data Labels\n",
    "### Functions"
   ]
  },
  {
   "cell_type": "code",
   "execution_count": 156,
   "id": "57f292f8-fc83-4d22-8474-8b4db81d17c4",
   "metadata": {},
   "outputs": [],
   "source": [
    "# List of characters present in the sentence\n",
    "def character_list(sentence):\n",
    "    ans = []\n",
    "    words = sentence.split()\n",
    "    for word in words:\n",
    "        prev = ''\n",
    "        for i in word:\n",
    "            if i in prev or not prev: \n",
    "                prev += i\n",
    "            else:\n",
    "                ans += [prev]\n",
    "                prev = i       \n",
    "        ans += [ prev ]\n",
    "    return ans"
   ]
  },
  {
   "cell_type": "code",
   "execution_count": 557,
   "id": "72ce2897",
   "metadata": {},
   "outputs": [],
   "source": [
    "# Columns info\n",
    "Signers = dataset_labels.participant_id.unique() # All signers\n",
    "Sentences = dataset_labels.phrase.unique() # All sentences \n",
    "\n",
    "# Characters counts\n",
    "Sentences_Characters = [character_list(i) for i in Sentences] # Convert each sentence into list of characters\n",
    "Character_Counts = Counter( sum(Sentences_Characters, []) ) # Count characters across all sentences\n",
    "\n",
    "# Convert to a sorted list\n",
    "Characters = sorted(list(Character_Counts))\n",
    "\n",
    "# Encoding and decoding characters as integers\n",
    "Encode, Decode = {}, {}\n",
    "for i,x in enumerate(Characters):\n",
    "    Encode[x] = i\n",
    "    Decode[i] = x"
   ]
  },
  {
   "cell_type": "markdown",
   "id": "47d830b8-8453-4c68-a064-1c177921876f",
   "metadata": {},
   "source": [
    "## Exploritory Data Analysis\n",
    "\n",
    "In total, there are approximately 50,000 videos in the data set which are done by 72 distinct participants. For each video, the participant will spell out the letters of a sentence that is provided to them. The sentences are often reused, so there are multiple videos of different participant spelling out the same sentence. \n",
    "\n",
    "Here is a quick summary of the data:\n",
    "\n",
    "* Total Videos: 52,958\n",
    "* Total Participants: 72\n",
    "* Total Distinct Sentences: 508\n",
    "* Total Distinct Characters: 40\n",
    "\n",
    "Below is a plot for number of videos each signer performed. "
   ]
  },
  {
   "cell_type": "code",
   "execution_count": 177,
   "id": "86035237-9797-4b14-ac12-6ad10459be48",
   "metadata": {},
   "outputs": [
    {
     "data": {
      "image/png": "[encoded data removed]",
      "text/plain": [
       "<Figure size 500x2000 with 1 Axes>"
      ]
     },
     "metadata": {},
     "output_type": "display_data"
    }
   ],
   "source": [
    "# Counts\n",
    "signers_count = dataset_labels['participant_id'].value_counts() # Count of videos per signer\n",
    "sentences_count = dataset_labels['phrase'].value_counts() # Count of videos per sentence\n",
    "\n",
    "# plotting number of videos per signer\n",
    "ax = signers_count.plot(kind='barh', figsize=(5,20))"
   ]
  },
  {
   "cell_type": "markdown",
   "id": "8ecd2846-9609-4148-8b5e-422ba78c8220",
   "metadata": {},
   "source": [
    "### Character Plot"
   ]
  },
  {
   "cell_type": "code",
   "execution_count": 190,
   "id": "75b23497-6d5c-4d86-bbbe-5e734fce6ce6",
   "metadata": {},
   "outputs": [
    {
     "data": {
      "text/plain": [
       "['a',\n",
       " 'b',\n",
       " 'c',\n",
       " 'cc',\n",
       " 'd',\n",
       " 'dd',\n",
       " 'e',\n",
       " 'ee',\n",
       " 'f',\n",
       " 'ff',\n",
       " 'g',\n",
       " 'gg',\n",
       " 'h',\n",
       " 'i',\n",
       " 'j',\n",
       " 'k',\n",
       " 'l',\n",
       " 'll',\n",
       " 'm',\n",
       " 'mm',\n",
       " 'n',\n",
       " 'nn',\n",
       " 'o',\n",
       " 'oo',\n",
       " 'p',\n",
       " 'pp',\n",
       " 'q',\n",
       " 'r',\n",
       " 'rr',\n",
       " 's',\n",
       " 'ss',\n",
       " 't',\n",
       " 'tt',\n",
       " 'u',\n",
       " 'v',\n",
       " 'w',\n",
       " 'x',\n",
       " 'y',\n",
       " 'z',\n",
       " 'zz']"
      ]
     },
     "execution_count": 190,
     "metadata": {},
     "output_type": "execute_result"
    }
   ],
   "source": [
    "Characters"
   ]
  },
  {
   "cell_type": "code",
   "execution_count": 179,
   "id": "10e2add1",
   "metadata": {},
   "outputs": [
    {
     "data": {
      "image/png": "[encoded data removed]",
      "text/plain": [
       "<Figure size 1500x400 with 1 Axes>"
      ]
     },
     "metadata": {},
     "output_type": "display_data"
    }
   ],
   "source": [
    "sns.set(rc={\"figure.figsize\":(15, 4)})\n",
    "counts_df = pd.DataFrame(data = { 'Characters' : Characters, 'Counts' : [Character_Counts[i] for i in Characters] } )\n",
    "ax = sns.barplot(x='Characters', y='Counts', data = counts_df)\n",
    "# [ i for i in Sentences if \"ff\" in i] "
   ]
  },
  {
   "cell_type": "markdown",
   "id": "94c7adb8-d6af-4b04-b944-2ae9dd66e6ec",
   "metadata": {},
   "source": [
    "As is common with the english language, each characters appear with a different frequency. The characters with the highest frequency are:"
   ]
  },
  {
   "cell_type": "code",
   "execution_count": 113,
   "id": "e75da976-4f20-4071-8cc3-231a8e6b8980",
   "metadata": {},
   "outputs": [
    {
     "data": {
      "text/html": [
       "<div>\n",
       "<style scoped>\n",
       "    .dataframe tbody tr th:only-of-type {\n",
       "        vertical-align: middle;\n",
       "    }\n",
       "\n",
       "    .dataframe tbody tr th {\n",
       "        vertical-align: top;\n",
       "    }\n",
       "\n",
       "    .dataframe thead th {\n",
       "        text-align: right;\n",
       "    }\n",
       "</style>\n",
       "<table border=\"1\" class=\"dataframe\">\n",
       "  <thead>\n",
       "    <tr style=\"text-align: right;\">\n",
       "      <th></th>\n",
       "      <th>Characters</th>\n",
       "      <th>Counts</th>\n",
       "    </tr>\n",
       "  </thead>\n",
       "  <tbody>\n",
       "    <tr>\n",
       "      <th>6</th>\n",
       "      <td>e</td>\n",
       "      <td>1409</td>\n",
       "    </tr>\n",
       "    <tr>\n",
       "      <th>31</th>\n",
       "      <td>t</td>\n",
       "      <td>1057</td>\n",
       "    </tr>\n",
       "    <tr>\n",
       "      <th>0</th>\n",
       "      <td>a</td>\n",
       "      <td>937</td>\n",
       "    </tr>\n",
       "    <tr>\n",
       "      <th>22</th>\n",
       "      <td>o</td>\n",
       "      <td>899</td>\n",
       "    </tr>\n",
       "    <tr>\n",
       "      <th>13</th>\n",
       "      <td>i</td>\n",
       "      <td>897</td>\n",
       "    </tr>\n",
       "    <tr>\n",
       "      <th>27</th>\n",
       "      <td>r</td>\n",
       "      <td>785</td>\n",
       "    </tr>\n",
       "    <tr>\n",
       "      <th>29</th>\n",
       "      <td>s</td>\n",
       "      <td>780</td>\n",
       "    </tr>\n",
       "    <tr>\n",
       "      <th>20</th>\n",
       "      <td>n</td>\n",
       "      <td>726</td>\n",
       "    </tr>\n",
       "  </tbody>\n",
       "</table>\n",
       "</div>"
      ],
      "text/plain": [
       "   Characters  Counts\n",
       "6           e    1409\n",
       "31          t    1057\n",
       "0           a     937\n",
       "22          o     899\n",
       "13          i     897\n",
       "27          r     785\n",
       "29          s     780\n",
       "20          n     726"
      ]
     },
     "execution_count": 113,
     "metadata": {},
     "output_type": "execute_result"
    }
   ],
   "source": [
    "counts_df.sort_values(by=['Counts'], ascending = False).head(8)"
   ]
  },
  {
   "cell_type": "markdown",
   "id": "7ae9bb2c-143e-41c6-b9b6-89576b2da29e",
   "metadata": {},
   "source": [
    "The characters with the lowest frequency are divided into two categories: \n",
    "\n",
    "1. single letters (e.g. q) \n",
    "2. double letters (e.g. tt in the word \"better\")\n",
    "\n",
    "In the latter case, the signer holds the sign for a given letter while doing \"bobbing\" or \"sliding\" motion with their hand to indicate multiple occurances of the letter. The specific letters that are doubled in the data are cc, dd, ee, ff, gg, ll, mm, nn, oo, pp, rr, ss, tt, and zz. \n",
    "\n",
    "The single characters with the lowest frequencies are listed below:"
   ]
  },
  {
   "cell_type": "code",
   "execution_count": 131,
   "id": "3d84aa40-cd5e-4ba4-ba3c-f4731d5eba3c",
   "metadata": {},
   "outputs": [
    {
     "data": {
      "text/html": [
       "<div>\n",
       "<style scoped>\n",
       "    .dataframe tbody tr th:only-of-type {\n",
       "        vertical-align: middle;\n",
       "    }\n",
       "\n",
       "    .dataframe tbody tr th {\n",
       "        vertical-align: top;\n",
       "    }\n",
       "\n",
       "    .dataframe thead th {\n",
       "        text-align: right;\n",
       "    }\n",
       "</style>\n",
       "<table border=\"1\" class=\"dataframe\">\n",
       "  <thead>\n",
       "    <tr style=\"text-align: right;\">\n",
       "      <th></th>\n",
       "      <th>Characters</th>\n",
       "      <th>Counts</th>\n",
       "    </tr>\n",
       "  </thead>\n",
       "  <tbody>\n",
       "    <tr>\n",
       "      <th>38</th>\n",
       "      <td>z</td>\n",
       "      <td>12</td>\n",
       "    </tr>\n",
       "    <tr>\n",
       "      <th>26</th>\n",
       "      <td>q</td>\n",
       "      <td>26</td>\n",
       "    </tr>\n",
       "    <tr>\n",
       "      <th>36</th>\n",
       "      <td>x</td>\n",
       "      <td>34</td>\n",
       "    </tr>\n",
       "    <tr>\n",
       "      <th>14</th>\n",
       "      <td>j</td>\n",
       "      <td>35</td>\n",
       "    </tr>\n",
       "    <tr>\n",
       "      <th>15</th>\n",
       "      <td>k</td>\n",
       "      <td>143</td>\n",
       "    </tr>\n",
       "    <tr>\n",
       "      <th>34</th>\n",
       "      <td>v</td>\n",
       "      <td>161</td>\n",
       "    </tr>\n",
       "    <tr>\n",
       "      <th>1</th>\n",
       "      <td>b</td>\n",
       "      <td>183</td>\n",
       "    </tr>\n",
       "    <tr>\n",
       "      <th>8</th>\n",
       "      <td>f</td>\n",
       "      <td>208</td>\n",
       "    </tr>\n",
       "  </tbody>\n",
       "</table>\n",
       "</div>"
      ],
      "text/plain": [
       "   Characters  Counts\n",
       "38          z      12\n",
       "26          q      26\n",
       "36          x      34\n",
       "14          j      35\n",
       "15          k     143\n",
       "34          v     161\n",
       "1           b     183\n",
       "8           f     208"
      ]
     },
     "execution_count": 131,
     "metadata": {},
     "output_type": "execute_result"
    }
   ],
   "source": [
    "counts_df[ counts_df.Characters.str.len() == 1 ].sort_values(by=['Counts']).head(8)"
   ]
  },
  {
   "cell_type": "markdown",
   "id": "6ae2feb8-2db8-4fe5-963c-5255583a4ca9",
   "metadata": {},
   "source": [
    "The double characters with the lowest frequencies are listed below:"
   ]
  },
  {
   "cell_type": "code",
   "execution_count": 130,
   "id": "ac313b10-0238-4c91-8559-2f450957d492",
   "metadata": {},
   "outputs": [
    {
     "data": {
      "text/html": [
       "<div>\n",
       "<style scoped>\n",
       "    .dataframe tbody tr th:only-of-type {\n",
       "        vertical-align: middle;\n",
       "    }\n",
       "\n",
       "    .dataframe tbody tr th {\n",
       "        vertical-align: top;\n",
       "    }\n",
       "\n",
       "    .dataframe thead th {\n",
       "        text-align: right;\n",
       "    }\n",
       "</style>\n",
       "<table border=\"1\" class=\"dataframe\">\n",
       "  <thead>\n",
       "    <tr style=\"text-align: right;\">\n",
       "      <th></th>\n",
       "      <th>Characters</th>\n",
       "      <th>Counts</th>\n",
       "    </tr>\n",
       "  </thead>\n",
       "  <tbody>\n",
       "    <tr>\n",
       "      <th>39</th>\n",
       "      <td>zz</td>\n",
       "      <td>1</td>\n",
       "    </tr>\n",
       "    <tr>\n",
       "      <th>11</th>\n",
       "      <td>gg</td>\n",
       "      <td>2</td>\n",
       "    </tr>\n",
       "    <tr>\n",
       "      <th>5</th>\n",
       "      <td>dd</td>\n",
       "      <td>3</td>\n",
       "    </tr>\n",
       "    <tr>\n",
       "      <th>19</th>\n",
       "      <td>mm</td>\n",
       "      <td>9</td>\n",
       "    </tr>\n",
       "    <tr>\n",
       "      <th>25</th>\n",
       "      <td>pp</td>\n",
       "      <td>9</td>\n",
       "    </tr>\n",
       "    <tr>\n",
       "      <th>28</th>\n",
       "      <td>rr</td>\n",
       "      <td>10</td>\n",
       "    </tr>\n",
       "    <tr>\n",
       "      <th>3</th>\n",
       "      <td>cc</td>\n",
       "      <td>12</td>\n",
       "    </tr>\n",
       "    <tr>\n",
       "      <th>21</th>\n",
       "      <td>nn</td>\n",
       "      <td>13</td>\n",
       "    </tr>\n",
       "    <tr>\n",
       "      <th>30</th>\n",
       "      <td>ss</td>\n",
       "      <td>19</td>\n",
       "    </tr>\n",
       "    <tr>\n",
       "      <th>32</th>\n",
       "      <td>tt</td>\n",
       "      <td>21</td>\n",
       "    </tr>\n",
       "    <tr>\n",
       "      <th>9</th>\n",
       "      <td>ff</td>\n",
       "      <td>23</td>\n",
       "    </tr>\n",
       "    <tr>\n",
       "      <th>23</th>\n",
       "      <td>oo</td>\n",
       "      <td>64</td>\n",
       "    </tr>\n",
       "    <tr>\n",
       "      <th>7</th>\n",
       "      <td>ee</td>\n",
       "      <td>67</td>\n",
       "    </tr>\n",
       "    <tr>\n",
       "      <th>17</th>\n",
       "      <td>ll</td>\n",
       "      <td>77</td>\n",
       "    </tr>\n",
       "  </tbody>\n",
       "</table>\n",
       "</div>"
      ],
      "text/plain": [
       "   Characters  Counts\n",
       "39         zz       1\n",
       "11         gg       2\n",
       "5          dd       3\n",
       "19         mm       9\n",
       "25         pp       9\n",
       "28         rr      10\n",
       "3          cc      12\n",
       "21         nn      13\n",
       "30         ss      19\n",
       "32         tt      21\n",
       "9          ff      23\n",
       "23         oo      64\n",
       "7          ee      67\n",
       "17         ll      77"
      ]
     },
     "execution_count": 130,
     "metadata": {},
     "output_type": "execute_result"
    }
   ],
   "source": [
    "counts_df[ counts_df.Characters.str.len() == 2 ].sort_values(by=['Counts'])"
   ]
  },
  {
   "cell_type": "markdown",
   "id": "bec9308f-3d98-4634-8082-9d1a2888b7cb",
   "metadata": {},
   "source": [
    "## Data \n",
    "<p> Column Labels"
   ]
  },
  {
   "cell_type": "code",
   "execution_count": 89,
   "id": "fc4551da",
   "metadata": {},
   "outputs": [
    {
     "data": {
      "text/html": [
       "<div>\n",
       "<style scoped>\n",
       "    .dataframe tbody tr th:only-of-type {\n",
       "        vertical-align: middle;\n",
       "    }\n",
       "\n",
       "    .dataframe tbody tr th {\n",
       "        vertical-align: top;\n",
       "    }\n",
       "\n",
       "    .dataframe thead th {\n",
       "        text-align: right;\n",
       "    }\n",
       "</style>\n",
       "<table border=\"1\" class=\"dataframe\">\n",
       "  <thead>\n",
       "    <tr style=\"text-align: right;\">\n",
       "      <th></th>\n",
       "      <th>frame</th>\n",
       "      <th>x_face_0</th>\n",
       "      <th>x_face_1</th>\n",
       "      <th>x_face_2</th>\n",
       "      <th>x_face_3</th>\n",
       "      <th>x_face_4</th>\n",
       "      <th>x_face_5</th>\n",
       "      <th>x_face_6</th>\n",
       "      <th>x_face_7</th>\n",
       "      <th>x_face_8</th>\n",
       "      <th>...</th>\n",
       "      <th>z_right_hand_11</th>\n",
       "      <th>z_right_hand_12</th>\n",
       "      <th>z_right_hand_13</th>\n",
       "      <th>z_right_hand_14</th>\n",
       "      <th>z_right_hand_15</th>\n",
       "      <th>z_right_hand_16</th>\n",
       "      <th>z_right_hand_17</th>\n",
       "      <th>z_right_hand_18</th>\n",
       "      <th>z_right_hand_19</th>\n",
       "      <th>z_right_hand_20</th>\n",
       "    </tr>\n",
       "    <tr>\n",
       "      <th>sequence_id</th>\n",
       "      <th></th>\n",
       "      <th></th>\n",
       "      <th></th>\n",
       "      <th></th>\n",
       "      <th></th>\n",
       "      <th></th>\n",
       "      <th></th>\n",
       "      <th></th>\n",
       "      <th></th>\n",
       "      <th></th>\n",
       "      <th></th>\n",
       "      <th></th>\n",
       "      <th></th>\n",
       "      <th></th>\n",
       "      <th></th>\n",
       "      <th></th>\n",
       "      <th></th>\n",
       "      <th></th>\n",
       "      <th></th>\n",
       "      <th></th>\n",
       "      <th></th>\n",
       "    </tr>\n",
       "  </thead>\n",
       "  <tbody>\n",
       "    <tr>\n",
       "      <th>1535585216</th>\n",
       "      <td>0</td>\n",
       "      <td>0.661311</td>\n",
       "      <td>0.639197</td>\n",
       "      <td>0.649397</td>\n",
       "      <td>0.627107</td>\n",
       "      <td>0.636819</td>\n",
       "      <td>0.637886</td>\n",
       "      <td>0.643963</td>\n",
       "      <td>0.543379</td>\n",
       "      <td>0.643512</td>\n",
       "      <td>...</td>\n",
       "      <td>-0.446071</td>\n",
       "      <td>-0.475024</td>\n",
       "      <td>-0.276392</td>\n",
       "      <td>-0.399065</td>\n",
       "      <td>-0.411691</td>\n",
       "      <td>-0.411123</td>\n",
       "      <td>-0.291026</td>\n",
       "      <td>-0.377121</td>\n",
       "      <td>-0.383896</td>\n",
       "      <td>-0.384064</td>\n",
       "    </tr>\n",
       "    <tr>\n",
       "      <th>1535585216</th>\n",
       "      <td>1</td>\n",
       "      <td>0.658771</td>\n",
       "      <td>0.638368</td>\n",
       "      <td>0.648412</td>\n",
       "      <td>0.627044</td>\n",
       "      <td>0.636141</td>\n",
       "      <td>0.637413</td>\n",
       "      <td>0.643941</td>\n",
       "      <td>0.544614</td>\n",
       "      <td>0.643753</td>\n",
       "      <td>...</td>\n",
       "      <td>-0.249128</td>\n",
       "      <td>-0.267379</td>\n",
       "      <td>-0.132248</td>\n",
       "      <td>-0.242402</td>\n",
       "      <td>-0.264498</td>\n",
       "      <td>-0.256052</td>\n",
       "      <td>-0.156172</td>\n",
       "      <td>-0.240920</td>\n",
       "      <td>-0.255348</td>\n",
       "      <td>-0.249507</td>\n",
       "    </tr>\n",
       "    <tr>\n",
       "      <th>1535585216</th>\n",
       "      <td>2</td>\n",
       "      <td>0.660224</td>\n",
       "      <td>0.637203</td>\n",
       "      <td>0.647146</td>\n",
       "      <td>0.626657</td>\n",
       "      <td>0.635131</td>\n",
       "      <td>0.636633</td>\n",
       "      <td>0.643726</td>\n",
       "      <td>0.546612</td>\n",
       "      <td>0.643891</td>\n",
       "      <td>...</td>\n",
       "      <td>-0.206395</td>\n",
       "      <td>-0.213511</td>\n",
       "      <td>-0.103286</td>\n",
       "      <td>-0.200041</td>\n",
       "      <td>-0.212501</td>\n",
       "      <td>-0.197073</td>\n",
       "      <td>-0.128849</td>\n",
       "      <td>-0.205215</td>\n",
       "      <td>-0.215801</td>\n",
       "      <td>-0.205451</td>\n",
       "    </tr>\n",
       "    <tr>\n",
       "      <th>1535585216</th>\n",
       "      <td>3</td>\n",
       "      <td>0.659946</td>\n",
       "      <td>0.638108</td>\n",
       "      <td>0.647697</td>\n",
       "      <td>0.627808</td>\n",
       "      <td>0.636125</td>\n",
       "      <td>0.637637</td>\n",
       "      <td>0.644620</td>\n",
       "      <td>0.548416</td>\n",
       "      <td>0.644791</td>\n",
       "      <td>...</td>\n",
       "      <td>-0.189114</td>\n",
       "      <td>-0.194932</td>\n",
       "      <td>-0.109138</td>\n",
       "      <td>-0.186973</td>\n",
       "      <td>-0.185710</td>\n",
       "      <td>-0.168197</td>\n",
       "      <td>-0.133141</td>\n",
       "      <td>-0.194085</td>\n",
       "      <td>-0.197469</td>\n",
       "      <td>-0.186459</td>\n",
       "    </tr>\n",
       "    <tr>\n",
       "      <th>1535585216</th>\n",
       "      <td>4</td>\n",
       "      <td>0.659748</td>\n",
       "      <td>0.639185</td>\n",
       "      <td>0.648541</td>\n",
       "      <td>0.628934</td>\n",
       "      <td>0.637253</td>\n",
       "      <td>0.638732</td>\n",
       "      <td>0.645578</td>\n",
       "      <td>0.550669</td>\n",
       "      <td>0.645741</td>\n",
       "      <td>...</td>\n",
       "      <td>-0.156095</td>\n",
       "      <td>-0.157589</td>\n",
       "      <td>-0.086654</td>\n",
       "      <td>-0.150850</td>\n",
       "      <td>-0.144399</td>\n",
       "      <td>-0.124004</td>\n",
       "      <td>-0.107844</td>\n",
       "      <td>-0.156168</td>\n",
       "      <td>-0.154891</td>\n",
       "      <td>-0.139937</td>\n",
       "    </tr>\n",
       "  </tbody>\n",
       "</table>\n",
       "<p>5 rows × 1630 columns</p>\n",
       "</div>"
      ],
      "text/plain": [
       "             frame  x_face_0  x_face_1  x_face_2  x_face_3  x_face_4  \\\n",
       "sequence_id                                                            \n",
       "1535585216       0  0.661311  0.639197  0.649397  0.627107  0.636819   \n",
       "1535585216       1  0.658771  0.638368  0.648412  0.627044  0.636141   \n",
       "1535585216       2  0.660224  0.637203  0.647146  0.626657  0.635131   \n",
       "1535585216       3  0.659946  0.638108  0.647697  0.627808  0.636125   \n",
       "1535585216       4  0.659748  0.639185  0.648541  0.628934  0.637253   \n",
       "\n",
       "             x_face_5  x_face_6  x_face_7  x_face_8  ...  z_right_hand_11  \\\n",
       "sequence_id                                          ...                    \n",
       "1535585216   0.637886  0.643963  0.543379  0.643512  ...        -0.446071   \n",
       "1535585216   0.637413  0.643941  0.544614  0.643753  ...        -0.249128   \n",
       "1535585216   0.636633  0.643726  0.546612  0.643891  ...        -0.206395   \n",
       "1535585216   0.637637  0.644620  0.548416  0.644791  ...        -0.189114   \n",
       "1535585216   0.638732  0.645578  0.550669  0.645741  ...        -0.156095   \n",
       "\n",
       "             z_right_hand_12  z_right_hand_13  z_right_hand_14  \\\n",
       "sequence_id                                                      \n",
       "1535585216         -0.475024        -0.276392        -0.399065   \n",
       "1535585216         -0.267379        -0.132248        -0.242402   \n",
       "1535585216         -0.213511        -0.103286        -0.200041   \n",
       "1535585216         -0.194932        -0.109138        -0.186973   \n",
       "1535585216         -0.157589        -0.086654        -0.150850   \n",
       "\n",
       "             z_right_hand_15  z_right_hand_16  z_right_hand_17  \\\n",
       "sequence_id                                                      \n",
       "1535585216         -0.411691        -0.411123        -0.291026   \n",
       "1535585216         -0.264498        -0.256052        -0.156172   \n",
       "1535585216         -0.212501        -0.197073        -0.128849   \n",
       "1535585216         -0.185710        -0.168197        -0.133141   \n",
       "1535585216         -0.144399        -0.124004        -0.107844   \n",
       "\n",
       "             z_right_hand_18  z_right_hand_19  z_right_hand_20  \n",
       "sequence_id                                                     \n",
       "1535585216         -0.377121        -0.383896        -0.384064  \n",
       "1535585216         -0.240920        -0.255348        -0.249507  \n",
       "1535585216         -0.205215        -0.215801        -0.205451  \n",
       "1535585216         -0.194085        -0.197469        -0.186459  \n",
       "1535585216         -0.156168        -0.154891        -0.139937  \n",
       "\n",
       "[5 rows x 1630 columns]"
      ]
     },
     "execution_count": 89,
     "metadata": {},
     "output_type": "execute_result"
    }
   ],
   "source": [
    "# EDA - Exploratory data analysis\n",
    "# data.shape # (n,k): n = number of frames in video, k = (k-1 pieces of landmark data) + (1 frame data)\n",
    "\n",
    "# Landmark data\n",
    "#### Divide columns into frame number, and landmarks for face, left_hand / right_hand, and pose. \n",
    "#    Each of the landmark columns are divided into three based on the x,y,z coordinates. We list\n",
    "#    total number of xyz columns for landmarks and then the unique landmarks. Links:\n",
    "#       - Pose:  https://developers.google.com/mediapipe/solutions/vision/pose_landmarker\n",
    "#       - Hands: https://developers.google.com/mediapipe/solutions/vision/hand_landmarker/index\n",
    "################################################################################################\n",
    "C = data.columns\n",
    "frame = C[0] # 1 frame \n",
    "face = [ i for i in C if 'face' in i] # 1404 xyz columns / 468 landmarks\n",
    "left_hand = [ i for i in C if 'left_hand' in i] # 63 xyz columns / 21 landmarks \n",
    "right_hand = [ i for i in C if 'right_hand' in i] # 63 xyz columns / 21 landmarks  \n",
    "pose = [ i for i in C if 'pose' in i] # 99 xyz columns / 33 landmarks\n",
    "\n",
    "# quick look\n",
    "data.head()"
   ]
  },
  {
   "cell_type": "markdown",
   "id": "748c8703-a3b4-4375-90fb-d6e3fd5e783c",
   "metadata": {},
   "source": [
    "# Landmarks\n",
    "## Import functions "
   ]
  },
  {
   "cell_type": "code",
   "execution_count": 269,
   "id": "d93ca94c",
   "metadata": {},
   "outputs": [],
   "source": [
    "# Number of landmarks per object\n",
    "number_of_landmarks = { 'face' : 468, 'left_hand' : 21, 'right_hand' : 21, 'pose' : 33 }\n",
    "\n",
    "# simple holder for our landmarks that will mimic the results that we get back from mediapipe but using our data\n",
    "class Landmarks(object):\n",
    "    pass\n",
    "\n",
    "# Returns a \"Landmark object\" with a list of landmarks for the given object and frame   \n",
    "def get_landmarks(name, data, frame):\n",
    "    \n",
    "    # assert that name is face, left_hand, right_hand, pose\n",
    "    assert name in {'face', 'left_hand', 'right_hand', 'pose'}\n",
    "    \n",
    "    # number of landmarks per object\n",
    "    n = number_of_landmarks[name]\n",
    "    \n",
    "    # loop\n",
    "    obj = landmark_pb2.NormalizedLandmarkList()\n",
    "    for i in range(n):\n",
    "        \n",
    "        # Column names in the data (dataframe) for the x,y,z coordinates of landmark i\n",
    "        coordinates = {}\n",
    "        for j in \"xyz\":\n",
    "            column_name = j + '_' + name + '_' + str(i)\n",
    "            coordinates[j] = data[ column_name ].loc[ data['frame'] == frame ]\n",
    "        \n",
    "        # coordinates\n",
    "        xi,yi,zi = coordinates['x'], coordinates['y'], coordinates['z']\n",
    "        \n",
    "        # add to Landmark\n",
    "        obj.landmark.add( x=xi, y=yi, z=zi )\n",
    "    \n",
    "    # return \n",
    "    return obj\n",
    "\n",
    "\n",
    "# Creates all landmarks \n",
    "def get_landmarks_data(data, frame):  \n",
    "    result = Landmarks()\n",
    "    result.face_landmarks = get_landmarks('face', data, frame)\n",
    "    result.pose_landmarks = get_landmarks('pose', data, frame)\n",
    "    result.left_hand_landmarks = get_landmarks('left_hand', data, frame)\n",
    "    result.right_hand_landmarks = get_landmarks('right_hand', data, frame)\n",
    "    return result"
   ]
  },
  {
   "cell_type": "markdown",
   "id": "63a18c55-fbc3-4392-b6c9-efb8bbbdacb3",
   "metadata": {},
   "source": [
    "## Operations"
   ]
  },
  {
   "cell_type": "code",
   "execution_count": 270,
   "id": "84de0edf-6474-4633-8ee7-748eacfd1672",
   "metadata": {},
   "outputs": [],
   "source": [
    "# Checks if a landmark is not defined\n",
    "def Landmark_is_nan(X):\n",
    "    for i in X.landmark:\n",
    "        if math.isnan(i.x) or math.isnan(i.y) or math.isnan(i.z):\n",
    "            return True\n",
    "    return False\n",
    "\n",
    "# returns <x,y,z> vector for landmark n\n",
    "def Landmark_vector(X,i):\n",
    "    return np.array([ X.landmark[i].x,  X.landmark[i].y,  X.landmark[i].z])\n",
    "    \n",
    "# Makes a blank landmark of length n\n",
    "def Landmark_blank(n):\n",
    "    obj = landmark_pb2.NormalizedLandmarkList()\n",
    "    for i in range(n):\n",
    "        obj.landmark.add( x=math.nan, y=math.nan, z=math.nan )\n",
    "    return obj\n",
    "\n",
    "# Creates a blank for all landmarks\n",
    "def blank():  \n",
    "    result = Landmarks()\n",
    "    result.face_landmarks = Landmark_blank(468)\n",
    "    result.pose_landmarks = Landmark_blank(33)\n",
    "    result.left_hand_landmarks = Landmark_blank(21)\n",
    "    result.right_hand_landmarks = Landmark_blank(21)\n",
    "    return result\n",
    "    \n",
    "# Makes a landmark undefined\n",
    "def Landmark_make_nan(X):\n",
    "    obj = landmark_pb2.NormalizedLandmarkList()\n",
    "    for i in X.landmark:\n",
    "        obj.landmark.add( x=math.nan, y=math.nan, z=math.nan )\n",
    "    return obj\n",
    "\n",
    "\n",
    "# Shifts a landmark to be centered at the vector w\n",
    "def shift(X,w):\n",
    "    obj = landmark_pb2.LandmarkList()\n",
    "    a = np.array([ X.landmark[0].x , X.landmark[0].y, X.landmark[0].z ]) \n",
    "    for i in X.landmark:\n",
    "        # form vector\n",
    "        v = np.array([i.x,i.y,i.z])\n",
    "        # unshift affine shift\n",
    "        v = v - a + w\n",
    "        # set coordinates\n",
    "        obj.landmark.add( x=v[0], y=v[1], z=v[2] )       \n",
    "    return obj \n",
    "\n",
    "\n",
    "# reflects a landmark about the y-axis\n",
    "def reflect(X):\n",
    "    obj = landmark_pb2.LandmarkList()\n",
    "    for i in X.landmark:\n",
    "        obj.landmark.add( x=(.5-i.x), y=i.y, z=i.z )       \n",
    "    return obj \n",
    "\n",
    "# records whether front or back of hand\n",
    "def front(X):\n",
    "    \n",
    "    # points\n",
    "    X0 = Landmark_vector(X,0) # base\n",
    "    X5 = Landmark_vector(X,5) # left \n",
    "    X17 = Landmark_vector(X,17) # right\n",
    "    \n",
    "    # vectors \n",
    "    V1, V2 = X5 - X0, X17 - X0\n",
    "    \n",
    "    # set z to 0 \n",
    "    V1[2], V2[2] = 0,0\n",
    "    \n",
    "    # take cross product\n",
    "    n = np.cross(V1,V2)\n",
    "    \n",
    "    return True if n[2] < 0 else False  "
   ]
  },
  {
   "cell_type": "markdown",
   "id": "7a27d4dd-fe11-4942-826a-fac1d7743eb8",
   "metadata": {},
   "source": [
    "## Centering"
   ]
  },
  {
   "cell_type": "code",
   "execution_count": 337,
   "id": "f04d0098-6b0f-4c06-afc1-474b67c97957",
   "metadata": {},
   "outputs": [
    {
     "data": {
      "text/plain": [
       "array([[ 0.78729251, -0.01747375, -0.61633203],\n",
       "       [ 0.31131621, -0.85156091,  0.42181303],\n",
       "       [-0.53221492, -0.52396439, -0.66498766]])"
      ]
     },
     "execution_count": 337,
     "metadata": {},
     "output_type": "execute_result"
    }
   ],
   "source": [
    "M = np.array([[ 0.06816408, -0.02943546, -0.0151578 ], [ 0.04396006, -0.13104451, -0.0048572 ], [-0.05505851, -0.10182643, -0.04996139]])\n",
    "U, S, V = np.linalg.svd(M, full_matrices=True)\n",
    "U.dot(V)"
   ]
  },
  {
   "cell_type": "code",
   "execution_count": 348,
   "id": "c875896a-b0a6-4f6a-9003-8fb13c9dc4e1",
   "metadata": {},
   "outputs": [],
   "source": [
    "# Recenters a hand based on the outer landmarks \n",
    "def center(X, frame):\n",
    "    \n",
    "    # if not defined\n",
    "    if Landmark_is_nan(X): return X\n",
    "\n",
    "    # Centering\n",
    "    X0 = Landmark_vector(X,0) # base\n",
    "    X1 = Landmark_vector(X,1) # left \n",
    "    X5 = Landmark_vector(X,5) # center left \n",
    "    X9 = Landmark_vector(X,9) # center\n",
    "    X13 = Landmark_vector(X,13) # center right\n",
    "    X17 = Landmark_vector(X,17) # right\n",
    "        \n",
    "    # Basis 1\n",
    "    V1, V5, V9, V13, V17, = X1-X0, X5-X0, X9-X0, X13-X0, X17-X0\n",
    "    \n",
    "\n",
    "    # Basis Matrices\n",
    "    A, B = np.array([V1,V5,V17]),    np.array([[ 0.06816408, -0.02943546, -0.0151578 ], [ 0.04396006, -0.13104451, -0.0048572 ], [-0.05505851, -0.10182643, -0.04996139]])\n",
    "    A1, B1 = np.array([V9,V5,V17]),  np.array([[ 0.12737696, -0.07470322, -0.08873697], [ 0.12005465, -0.11204314, -0.07280551], [ 0.13797943,  0.01287234, -0.11509396]])\n",
    "    # A, B = np.array([V1,V2,V3]),  np.array([[ 0.04693469, -0.12667215, -0.0208972 ],[ 0.00329348, -0.12194675, -0.03340138],[-0.07567593, -0.0876869 , -0.06737784]])\n",
    "\n",
    "    # Transformation\n",
    "    C = (np.linalg.inv(A)).dot(B)\n",
    "    if not front(X): C = (np.linalg.inv(A1)).dot(B1)\n",
    "    \n",
    "    # SVD\n",
    "    U, S, V = np.linalg.svd(C, full_matrices=True)\n",
    "    C = U.dot(V)\n",
    "    \n",
    "    # print( np.linalg.det(C), (np.linalg.norm(V5) / np.linalg.norm(V17) ), np.dot(V5,V17) / (np.linalg.norm(V5) * np.linalg.norm(V17))  )\n",
    "    \n",
    "    obj = landmark_pb2.LandmarkList()\n",
    "    for i in X.landmark:\n",
    "            \n",
    "            # form vector\n",
    "            v = np.array([i.x,i.y,i.z])\n",
    "            \n",
    "            # affine shift\n",
    "            v = v - X0\n",
    "            \n",
    "            # linear transformation\n",
    "            v = v.dot(C)\n",
    "            \n",
    "            # set coordinates\n",
    "            obj.landmark.add( x=v[0], y=v[1], z=v[2] )\n",
    "            \n",
    "    return obj "
   ]
  },
  {
   "cell_type": "markdown",
   "id": "b9dcf8f7-2c5a-43b8-8cb3-3817ff72f6cd",
   "metadata": {},
   "source": [
    "# Video class"
   ]
  },
  {
   "cell_type": "code",
   "execution_count": 182,
   "id": "e75f8438-2433-4e6a-a315-4a4477f52c10",
   "metadata": {},
   "outputs": [],
   "source": [
    "# Video Class\n",
    "class video:           \n",
    "    def __init__(self,seq_id):\n",
    "        self.id = seq_id \n",
    "        self.label = dataset_labels.loc[ dataset_labels['sequence_id'] == seq_id  ]\n",
    "        self.phrase = self.label.phrase.iloc[0]\n",
    "        self.participant = self.label.participant_id.iloc[0]\n",
    "        self.data = dataset.loc[ seq_id ]\n",
    "        self.frames = self.data.frame\n",
    "        self.characters = character_list(self.phrase)\n",
    "    \n",
    "    def __repr__(self): \n",
    "            a = \" Sequence: {0}\\n Phrase: {1}\\n Signer: {2}\\n Frames: {3}\\n Dominant Hand: {4}\\n Percentage: {5}\".format( self.id, \n",
    "                                                                                                                          self.phrase,\n",
    "                                                                                                                          self.participant, \n",
    "                                                                                                                          len(self.frames), \n",
    "                                                                                                                          dominant_hand(self), \n",
    "                                                                                                                          percentage(self))\n",
    "\n",
    "            return a \n",
    "#######################\n",
    "### Video functions ###\n",
    "#######################\n",
    "\n",
    "def sequence(self):\n",
    "    return self.id\n",
    "\n",
    "def participant(self):\n",
    "    return self.participant\n",
    "\n",
    "def phrase(self):\n",
    "    return self.phrase\n",
    "\n",
    "def video_data(self):\n",
    "    return self.data\n",
    "\n",
    "def frames(self):\n",
    "    return self.frames\n",
    "\n",
    "def characters(self):\n",
    "    return self.characters\n",
    "\n",
    "def percentage(self):\n",
    "    return round( 100 * len( hand_frames(self) ) / len( self.frames ), 2)\n",
    "    \n",
    "\n",
    "#######################\n",
    "#### Dominant Hand ####\n",
    "#######################\n",
    "\n",
    "def dominant_hand(self):\n",
    "    if hasattr(self, 'dominant_hand'):\n",
    "        return self.dominant_hand\n",
    "    \n",
    "    # Select all frames from data\n",
    "    data = self.data\n",
    "    frames = data.frame.unique()\n",
    "    \n",
    "    # Left / right hand frames\n",
    "    Lframes = [i for i in frames if not Landmark_is_nan(get_landmarks('left_hand',  data, i))]\n",
    "    Rframes = [i for i in frames if not Landmark_is_nan(get_landmarks('right_hand', data, i))] \n",
    "    \n",
    "    # Determine dominant hand \n",
    "    if len(Lframes) < len(Rframes):\n",
    "        self.handframes = Rframes\n",
    "        self.dominant_hand = 'right'\n",
    "    else:\n",
    "        self.handframes = Lframes\n",
    "        self.dominant_hand = 'left'\n",
    "    \n",
    "    return self.dominant_hand\n",
    "\n",
    "### Dominant hand frames\n",
    "def hand_frames(self):\n",
    "    dominant_hand(self) # this assigns handframes\n",
    "    return self.handframes\n",
    "\n",
    "#######################\n",
    "### Normalized hand ###\n",
    "#######################\n",
    "\n",
    "def normal_hand_data(self):\n",
    "    \n",
    "    if hasattr(self, 'normal_hand_data'):\n",
    "        return self.normal_hand_data, self.hand_position\n",
    "    \n",
    "    # hand frames \n",
    "    data = self.data\n",
    "    Hframes = hand_frames(self)\n",
    "    Dhand = dominant_hand(self)\n",
    "    \n",
    "    # loop \n",
    "    L, P = [], [] \n",
    "    for frame in Hframes:\n",
    "\n",
    "        # Select landmarks for dominant hand\n",
    "        X = get_landmarks_data(data, frame).right_hand_landmarks if Dhand == 'right' else get_landmarks_data(data, frame).left_hand_landmarks\n",
    "\n",
    "        # First store position\n",
    "        P.append( list(Landmark_vector(X,0)) )\n",
    "\n",
    "        # center landmark\n",
    "        X = center(X, frame)\n",
    "\n",
    "        # List\n",
    "        L.append( [ list(Landmark_vector(X,i)) for i in range(1,21) ] )\n",
    "\n",
    "    # assign to video\n",
    "    self.normal_hand_data, self.hand_position = L, P\n",
    "    \n",
    "    # return \n",
    "    return self.normal_hand_data, self.hand_position\n",
    "          "
   ]
  },
  {
   "cell_type": "code",
   "execution_count": 435,
   "id": "b5fdaff8-baec-4c53-82b1-d509316d6477",
   "metadata": {},
   "outputs": [],
   "source": [
    "V = video(seq_id)\n",
    "D = video_data(V)"
   ]
  },
  {
   "cell_type": "code",
   "execution_count": 436,
   "id": "e2124083-24c9-47fc-b91a-637c2a0bb3ec",
   "metadata": {},
   "outputs": [
    {
     "name": "stdout",
     "output_type": "stream",
     "text": [
      " Sequence: 1535585216\n",
      " Phrase: knee bone is connected to the thigh bone\n",
      " Signer: 254\n",
      " Frames: 245\n",
      " Dominant Hand: right\n",
      " Percentage: 100.0\n"
     ]
    }
   ],
   "source": [
    "print(V)"
   ]
  },
  {
   "cell_type": "markdown",
   "id": "6e7910a9-788c-48e5-ab46-c7bba7805afa",
   "metadata": {},
   "source": [
    "## Exploritory Data Analysis"
   ]
  },
  {
   "cell_type": "markdown",
   "id": "dac3a2a7-132e-4035-ac80-0ed0851f808d",
   "metadata": {},
   "source": [
    "We now do some basic exploritory data analysis on the 1000 sequences in the specific data file labeled '33432165'. For each sequence, we record:\n",
    "1. number of frames \n",
    "2. percent of frames with dominant hand "
   ]
  },
  {
   "cell_type": "code",
   "execution_count": 188,
   "id": "78320ca1-f58b-4fc2-a7cd-3e44aa975edf",
   "metadata": {},
   "outputs": [],
   "source": [
    "'''\n",
    "DF = { 'F' : [], 'P' : [] }\n",
    "for s in VideoID:\n",
    "    V = video(s)\n",
    "    DF['F'] += [ len(V.frames) ]\n",
    "    DF['P'] += [ percentage(V) ]\n",
    "'''"
   ]
  },
  {
   "cell_type": "markdown",
   "id": "1a78a78d-781c-4011-b10d-03d93ea3b599",
   "metadata": {},
   "source": [
    "# Labeled Data - Method 1 \n",
    "## Clustering: k-means time series"
   ]
  },
  {
   "cell_type": "code",
   "execution_count": 531,
   "id": "93a7b588-32a8-47d6-916d-07ecb750018f",
   "metadata": {},
   "outputs": [],
   "source": [
    "# Attempts to label the data using a k-means time series clustering algorithm\n",
    "def label_data(self):\n",
    "    \n",
    "    # check\n",
    "    # if hasattr(self, 'data_labels'): return self.data_labels\n",
    "           \n",
    "    # list of characters\n",
    "    chars = characters(self)\n",
    "    \n",
    "    # data\n",
    "    data, _ = normal_hand_data(self)\n",
    "    data = np.array(data).reshape(len(data), -1) \n",
    "    \n",
    "    # Phase 1: Set up time series k-means algorithm for distinct symbols\n",
    "    k = len(set(chars))\n",
    "    # model = TimeSeriesKMeans(n_clusters=k, metric=\"dtw\", max_iter=20)\n",
    "    # model.fit(data)\n",
    "    # Alternate Phase 1\n",
    "    model = KMeans(n_clusters = k, n_init = 10, max_iter = 20)\n",
    "    model.fit(data)\n",
    "    \n",
    "    # one hot labels and run again\n",
    "    data_labels = np.array([ i for i in model.labels_ ]).reshape(-1,1)\n",
    "    \n",
    "    # Phase 2: second round of clustering based on the sentence \n",
    "    k = len(chars)\n",
    "    Model = TimeSeriesKMeans(n_clusters = k, metric = \"dtw\", max_iter = 20)\n",
    "    Model.fit(data_labels)\n",
    "    \n",
    "    # return as np.array\n",
    "    self.data_labels = Model.labels_\n",
    "   \n",
    "    # return\n",
    "    return self.data_labels\n",
    "\n",
    "\n",
    "# refines the clustering data to make more uniform predictions\n",
    "def refine_labels(V):\n",
    "    \n",
    "    # Labels\n",
    "    C = V.data_labels\n",
    "    \n",
    "    # Relabel date with distinct increasing labels\n",
    "    t, prev = 0, C[0]\n",
    "    L = []\n",
    "    for i in C:\n",
    "        if i != prev:\n",
    "            t += 1\n",
    "            prev = i\n",
    "        L += [t]\n",
    "    \n",
    "    # Count the occurences of each label\n",
    "    Counts = Counter(L)\n",
    "    \n",
    "    # loop and replace occurences with less than 4 with -1\n",
    "    temp_labels = []\n",
    "    for i in L:\n",
    "        x = i if (4 <= Counts[i]) else -1   \n",
    "        temp_labels += [ x ]\n",
    "    \n",
    "    # Look for clumps in the -1s\n",
    "    A, L = [], []\n",
    "    for i,x in enumerate(temp_labels):\n",
    "        if x == -1: L += [i]\n",
    "        elif L: \n",
    "            A += [L]\n",
    "            L = []\n",
    "            \n",
    "    # Longest sets of -1   \n",
    "    A.sort(key=len)\n",
    "    \n",
    "    # Match m and n\n",
    "    n = len(V.characters) + 1\n",
    "    m = len(set(temp_labels))\n",
    "    while A and m < n:\n",
    "        t += 1\n",
    "        clump = A.pop()\n",
    "        for i in clump:\n",
    "            temp_labels[i] = t\n",
    "        m += 1\n",
    "    \n",
    "    # Replace labels with -1 with '?' and reindex labels \n",
    "    t, v = -1, {}\n",
    "    Labels = []\n",
    "    for i in temp_labels:\n",
    "        if i == -1:\n",
    "            Labels += [ '?' ]\n",
    "        else:\n",
    "            if i not in v: \n",
    "                v[i] = 0\n",
    "                t += 1\n",
    "            Labels += [t]\n",
    "    \n",
    "    # assign + return\n",
    "    V.data_labels = Labels\n",
    "    return Labels"
   ]
  },
  {
   "cell_type": "code",
   "execution_count": 620,
   "id": "274f6cd0-142a-45fd-bc1d-8f535249b50f",
   "metadata": {},
   "outputs": [
    {
     "name": "stdout",
     "output_type": "stream",
     "text": [
      "[12 12 12 12  5  4  4  1  1 11 11 11 11 11  1  4  7  7  9  9  9  9  2  5\n",
      "  5  5  5  5  5  5  5  7  7  6  6  6  6  6  6  7  4  1  1  1  1  1  1  4\n",
      "  4  4  4  8  8  8  0  0  0  0  0  0  0  0  0  0  5  8  8  5  5  5  5  8\n",
      "  3  3  3  3  8  8  8  8  7  6  6  6  6  6  2 10 10 10 10 10 10 10  4  4\n",
      "  4  4  7  7  3  3  3  3  3  3  3  7  6  6  6  6  6  9  9  9  9  9  9  9\n",
      "  2  7  7  7  2  2  2  7  7  5  5  5  5  5  5  5  0  2  2  2  2  2  2  7\n",
      "  7  4  4  4  4  4  3  3  3  3  3  3  3  3  6  6  6  6  6  6  7  7] [0, 0, 0, 0, 1, 1, 1, 1, 1, 2, 2, 2, 2, 2, '?', '?', '?', '?', 3, 3, 3, 3, '?', 4, 4, 4, 4, 4, 4, 4, 4, '?', '?', 5, 5, 5, 5, 5, 5, '?', '?', 6, 6, 6, 6, 6, 6, 7, 7, 7, 7, '?', '?', '?', 8, 8, 8, 8, 8, 8, 8, 8, 8, 8, '?', '?', '?', 9, 9, 9, 9, '?', 10, 10, 10, 10, 11, 11, 11, 11, '?', 12, 12, 12, 12, 12, '?', 13, 13, 13, 13, 13, 13, 13, 14, 14, 14, 14, '?', '?', 15, 15, 15, 15, 15, 15, 15, '?', 16, 16, 16, 16, 16, 17, 17, 17, 17, 17, 17, 17, 18, 18, 18, 18, 18, 18, 18, 18, 18, 19, 19, 19, 19, 19, 19, 19, '?', 20, 20, 20, 20, 20, 20, '?', '?', 21, 21, 21, 21, 21, 22, 22, 22, 22, 22, 22, 22, 22, 23, 23, 23, 23, 23, 23, '?', '?']\n"
     ]
    }
   ],
   "source": [
    "C = label_data(V)\n",
    "D = refine_labels(V)\n",
    "print(C, D)"
   ]
  },
  {
   "cell_type": "code",
   "execution_count": 535,
   "id": "e823b5ba-e906-406b-b6ca-97ce9205cfb6",
   "metadata": {},
   "outputs": [],
   "source": [
    "# Makes a prediction for the letter based on time series data\n",
    "def prediction(self,frame):\n",
    "   \n",
    "    # initialize\n",
    "    Characters = self.characters\n",
    "    Labels = self.data_labels\n",
    "    \n",
    "    # label + prediction\n",
    "    d = 1\n",
    "    x = Labels[frame]\n",
    "    pred = '?' if x == '?' or x < d else Characters[x-d]\n",
    "    \n",
    "    return pred"
   ]
  },
  {
   "cell_type": "code",
   "execution_count": 536,
   "id": "ead82462-2bfd-466d-b040-5ff5c8c5942b",
   "metadata": {},
   "outputs": [
    {
     "data": {
      "text/plain": [
       "'o'"
      ]
     },
     "execution_count": 536,
     "metadata": {},
     "output_type": "execute_result"
    }
   ],
   "source": [
    "prediction(V, 10)"
   ]
  },
  {
   "cell_type": "markdown",
   "id": "413a5f96-9922-4a9b-a097-511f694b4fbb",
   "metadata": {},
   "source": [
    "# Plotting "
   ]
  },
  {
   "cell_type": "code",
   "execution_count": 192,
   "id": "e49fad7a",
   "metadata": {},
   "outputs": [],
   "source": [
    "def draw_landmarks(landmarks,image,show_pose=True,show_face_contour=True,show_face_tesselation=True,show_left_hand=True,show_right_hand=True):\n",
    "    annotated_image = image.copy()\n",
    "    results = landmarks\n",
    "    if show_face_tesselation:\n",
    "        mp_drawing.draw_landmarks(\n",
    "            annotated_image,\n",
    "            results.face_landmarks,\n",
    "            mp_holistic.FACEMESH_TESSELATION,\n",
    "            landmark_drawing_spec=None,\n",
    "            connection_drawing_spec=mp_drawing_styles\n",
    "            .get_default_face_mesh_tesselation_style())\n",
    "    if show_face_contour:\n",
    "        mp_drawing.draw_landmarks(\n",
    "            annotated_image,\n",
    "            results.face_landmarks,\n",
    "            mp_holistic.FACEMESH_CONTOURS,\n",
    "            landmark_drawing_spec=None,\n",
    "            connection_drawing_spec=mp_drawing_styles\n",
    "            .get_default_face_mesh_contours_style())\n",
    "    if show_pose:\n",
    "        mp_drawing.draw_landmarks(\n",
    "            annotated_image,\n",
    "            results.pose_landmarks,\n",
    "            mp_holistic.POSE_CONNECTIONS,\n",
    "            landmark_drawing_spec=mp_drawing_styles.\n",
    "            get_default_pose_landmarks_style())\n",
    "    if show_left_hand:\n",
    "        mp_drawing.draw_landmarks(\n",
    "            annotated_image,\n",
    "            results.left_hand_landmarks,\n",
    "            mp_holistic.HAND_CONNECTIONS,\n",
    "            landmark_drawing_spec=mp_drawing_styles\n",
    "            .get_default_hand_landmarks_style())\n",
    "    if show_right_hand:\n",
    "        mp_drawing.draw_landmarks(\n",
    "            annotated_image,\n",
    "            results.right_hand_landmarks,\n",
    "            mp_holistic.HAND_CONNECTIONS,\n",
    "            landmark_drawing_spec=mp_drawing_styles\n",
    "            .get_default_hand_landmarks_style())\n",
    "    return annotated_image\n"
   ]
  },
  {
   "cell_type": "markdown",
   "id": "b492b80d-0878-4c85-ba90-6160087ef014",
   "metadata": {},
   "source": [
    "## Plot: single frame"
   ]
  },
  {
   "cell_type": "code",
   "execution_count": 431,
   "id": "63a7b75e",
   "metadata": {},
   "outputs": [
    {
     "data": {
      "text/plain": [
       "<Axes: >"
      ]
     },
     "execution_count": 431,
     "metadata": {},
     "output_type": "execute_result"
    },
    {
     "data": {
      "image/png": "[encoded data removed]",
      "text/plain": [
       "<Figure size 500x500 with 1 Axes>"
      ]
     },
     "metadata": {},
     "output_type": "display_data"
    }
   ],
   "source": [
    "annotated_image = np.zeros((1024,1024,3),dtype=np.uint8)\n",
    "Data, frame = video_data(V), 1\n",
    "landmarks = get_landmarks_data(Data,frame)\n",
    "show_image(draw_landmarks(landmarks,annotated_image))"
   ]
  },
  {
   "cell_type": "markdown",
   "id": "fd26f6d9-4e55-4c70-ab71-ba83f4da894a",
   "metadata": {},
   "source": [
    "## Plot: Scrolling through frames "
   ]
  },
  {
   "cell_type": "code",
   "execution_count": 537,
   "id": "5419dd53",
   "metadata": {},
   "outputs": [
    {
     "data": {
      "application/vnd.jupyter.widget-view+json": {
       "model_id": "47f106e6ea6a466bacbb8228b386b90f",
       "version_major": 2,
       "version_minor": 0
      },
      "text/plain": [
       "interactive(children=(IntSlider(value=0, description='frame', layout=Layout(width='1000px'), max=91, step=0), …"
      ]
     },
     "metadata": {},
     "output_type": "display_data"
    },
    {
     "data": {
      "text/plain": [
       "<function __main__.show.<locals>.show_frame(frame)>"
      ]
     },
     "execution_count": 537,
     "metadata": {},
     "output_type": "execute_result"
    }
   ],
   "source": [
    "# Scrolling through frames\n",
    "def show(V):\n",
    "    # initialize the data from Video V\n",
    "    Data = video_data(V)\n",
    "    Frames = frames(V)\n",
    "    # retrun frame function\n",
    "    def show_frame(frame):\n",
    "        landmarks = get_landmarks_data(Data,frame)\n",
    "        show_image(draw_landmarks(landmarks,annotated_image), figsize=(7,7), title=f'frame: {frame} [{frame+1} of {len(Frames)}]')\n",
    "    return show_frame\n",
    "\n",
    "f = show(V)\n",
    "interact(f, frame = widgets.IntSlider( min=0, max=len(V.frames)-1, step=0, value=0, layout=widgets.Layout(width='1000px')))"
   ]
  },
  {
   "cell_type": "markdown",
   "id": "bbfa3e4b-1607-45bd-bb9d-49bb9dab4415",
   "metadata": {},
   "source": [
    "## Plot: Dominant hand (only frame that it is visible)"
   ]
  },
  {
   "cell_type": "code",
   "execution_count": 635,
   "id": "02717c33-4a91-4d59-b5af-941521b8b849",
   "metadata": {},
   "outputs": [],
   "source": [
    "GoodR = [4, 7, 10, 14, 15, 34, 82, 90, 100, 127, 131, 193, 219, 223, 228, 238, 339, 376, 386, 401, 457, 504, 510, 525, 528, 535, 538, 548, 570, 599, 611, 638, 651, 658, 692, 711, 784, 792, 804, 822, 835, 854, 864, 924, 940]\n",
    "V = video(VideoID[4])\n",
    "\n",
    "# basic predictor\n",
    "label_data(V)\n",
    "refined = refine_labels(V)"
   ]
  },
  {
   "cell_type": "code",
   "execution_count": 637,
   "id": "a5982c31-7ecf-48ed-a308-a0e74b00dfe5",
   "metadata": {},
   "outputs": [
    {
     "data": {
      "application/vnd.jupyter.widget-view+json": {
       "model_id": "e4865cc92b3d4cc1b5e5cdb0b1a65ef4",
       "version_major": 2,
       "version_minor": 0
      },
      "text/plain": [
       "interactive(children=(IntSlider(value=0, description='frame', layout=Layout(width='1000px'), max=244), Output(…"
      ]
     },
     "metadata": {},
     "output_type": "display_data"
    },
    {
     "data": {
      "text/plain": [
       "<function __main__.show_hands.<locals>.show_frame(frame)>"
      ]
     },
     "execution_count": 637,
     "metadata": {},
     "output_type": "execute_result"
    }
   ],
   "source": [
    "# Scrolling through image frames\n",
    "# prediction_method = 'tflow' or 'kmeans'\n",
    "def show_hands(V, prediction_method = 'tflow'):    \n",
    "    \n",
    "    # initialize\n",
    "    Hframes = hand_frames(V)\n",
    "    frames = V.frames\n",
    "    phrase = V.phrase\n",
    "    Data = video_data(V)\n",
    "       \n",
    "    # show function\n",
    "    def show_frame(frame):\n",
    "        # Only do frames with dominant hand\n",
    "        frame = Hframes[frame]\n",
    "\n",
    "        # Get landmark data\n",
    "        landmarks = get_landmarks_data(Data, frame)\n",
    "\n",
    "        # Remove face and pose landmarks \n",
    "        landmarks.face_landmarks = Landmark_make_nan(landmarks.face_landmarks)\n",
    "        landmarks.pose_landmarks = Landmark_make_nan(landmarks.pose_landmarks)\n",
    "\n",
    "        # set dominant hand (if left handed we reflect about the y-axis)\n",
    "        if dominant_hand == 'left': landmarks.right_hand_landmarks = reflect(landmarks.left_hand_landmarks)\n",
    "\n",
    "        # Plot original landmark and centered hand \n",
    "        landmarks.left_hand_landmarks = shift(landmarks.right_hand_landmarks, np.array([.2,.7,0]))\n",
    "        landmarks.right_hand_landmarks = shift( center( landmarks.right_hand_landmarks, frame), np.array([.6,.7,0] ) )\n",
    "        if prediction_method == 'kmeans': \n",
    "            show_image(draw_landmarks(landmarks,annotated_image),figsize=(6,6),title=f'frame [{frame+1} of {len(frames)}] {phrase:50} Prediction: {prediction(V,frame)}')\n",
    "        elif prediction_method == 'tflow':\n",
    "            show_image(draw_landmarks(landmarks,annotated_image),figsize=(6,6),title=f'frame [{frame+1} of {len(frames)}] {phrase:50} Prediction: {predict(V,frame)}')\n",
    "        # print(f'showing frame: {frames[frame]}')\n",
    "    \n",
    "    return show_frame\n",
    "\n",
    "f = show_hands(V, prediction_method = 'kmeans')\n",
    "interact(f, frame=widgets.IntSlider(min=0, max=len(V.frames)-1, step=1, value=0, layout=widgets.Layout(width='1000px')))"
   ]
  },
  {
   "cell_type": "markdown",
   "id": "e3a608a5-8b53-4e10-bb59-8f46b2af9c0c",
   "metadata": {},
   "source": [
    "# Labeled Data - Method 1"
   ]
  },
  {
   "cell_type": "code",
   "execution_count": 527,
   "id": "76871a55-3675-48aa-a198-a02e5204cc96",
   "metadata": {},
   "outputs": [],
   "source": [
    "# Pickling \n",
    "train_x, train_y = [],[]\n",
    "\n",
    "# pickle function\n",
    "def pickle(V, frame, letter):\n",
    "    \n",
    "    # initialize\n",
    "    Data, _ = normal_hand_data(V)\n",
    "    train_x.append( Data[frame] )\n",
    "    train_y.append( letter )"
   ]
  },
  {
   "cell_type": "code",
   "execution_count": 548,
   "id": "7875230d-28d0-4264-ab27-d792aa827d55",
   "metadata": {},
   "outputs": [],
   "source": [
    "for i in range(190):\n",
    "    if prediction(V,i) != '?': \n",
    "        pickle(V, i, prediction(V,i) ) "
   ]
  },
  {
   "cell_type": "markdown",
   "id": "ccf3945c-ebc9-463b-b9de-d5aaa6368b2f",
   "metadata": {},
   "source": [
    "### Pickle"
   ]
  },
  {
   "cell_type": "code",
   "execution_count": 555,
   "id": "edeed044-8c75-419e-8d6d-ffd79575563a",
   "metadata": {},
   "outputs": [],
   "source": [
    "train = [ train_x, train_y ]\n",
    "with open(\"pickle.json\", 'w') as f:\n",
    "    # indent=2 is not needed but makes the file human-readable \n",
    "    # if the data is nested\n",
    "    json.dump(train, f, indent=2) "
   ]
  },
  {
   "cell_type": "markdown",
   "id": "76358fe1-4bb5-40eb-a7b8-92754a4f8bb7",
   "metadata": {},
   "source": [
    "### Unpickle"
   ]
  },
  {
   "cell_type": "code",
   "execution_count": 563,
   "id": "9beb5981-9a67-496c-b297-2b4a048f4900",
   "metadata": {},
   "outputs": [],
   "source": [
    "with open(\"pickle.json\", 'r') as f:\n",
    "    pickles = json.load(f)"
   ]
  },
  {
   "cell_type": "markdown",
   "id": "9f049e84-3f41-4943-9b61-6f7c0de20f6c",
   "metadata": {},
   "source": [
    "# Labled Data - Method 2 \n",
    "### TensorFlow trained on k-means data"
   ]
  },
  {
   "cell_type": "code",
   "execution_count": 622,
   "id": "3fc9b49d-0408-4470-a49a-102e3eb4a80a",
   "metadata": {},
   "outputs": [
    {
     "data": {
      "text/plain": [
       "<keras.callbacks.History at 0x364295c30>"
      ]
     },
     "execution_count": 622,
     "metadata": {},
     "output_type": "execute_result"
    }
   ],
   "source": [
    "train_x, train_y = pickles\n",
    "train_y = [ Encode[i] for i in train_y ]\n",
    "\n",
    "# Model\n",
    "k = len( Characters )\n",
    "M = tf.keras.Sequential([\n",
    "    tf.keras.layers.Flatten(input_shape=(20, 3)),\n",
    "    tf.keras.layers.Dense(6*k, activation='relu'),\n",
    "    tf.keras.layers.Dense(k)])\n",
    "\n",
    "# Compile Model\n",
    "M.compile(optimizer='adam', loss=tf.keras.losses.SparseCategoricalCrossentropy(from_logits=True), metrics=['accuracy'])\n",
    "\n",
    "# fit model\n",
    "M.fit( train_x , train_y, epochs = 100, verbose=0 )"
   ]
  },
  {
   "cell_type": "code",
   "execution_count": 566,
   "id": "2a66c249-fe67-4fb4-aa14-27bcc1373a73",
   "metadata": {},
   "outputs": [
    {
     "name": "stdout",
     "output_type": "stream",
     "text": [
      "12/12 - 0s - loss: 0.4382 - accuracy: 0.8777 - 77ms/epoch - 6ms/step\n",
      "\n",
      "Test accuracy: 0.8777173757553101\n"
     ]
    }
   ],
   "source": [
    "Loss, Acc = M.evaluate(train_x, train_y, verbose=2)\n",
    "print('\\nTest accuracy:', Acc)"
   ]
  },
  {
   "cell_type": "markdown",
   "id": "04aa88bb-b836-48cf-872f-b76247770cb5",
   "metadata": {},
   "source": [
    "### Tensorflow Predictions"
   ]
  },
  {
   "cell_type": "code",
   "execution_count": 588,
   "id": "615f18e3-fd4c-44b3-80a1-24992f490a86",
   "metadata": {},
   "outputs": [],
   "source": [
    "# Prediction (tensor flow)\n",
    "def predict(V, frame):\n",
    "\n",
    "    Data, _ = normal_hand_data(V)\n",
    "    Data = np.array([ Data[frame] ])\n",
    "    \n",
    "    # individual prediction\n",
    "    X = tf.keras.Sequential([ M, tf.keras.layers.Softmax() ])\n",
    "    p = X.predict( Data, verbose=0)\n",
    "    \n",
    "    # prediction (encoded as an integer)\n",
    "    pred = np.argmax(p)\n",
    "    \n",
    "    # prediction (decoded)\n",
    "    ans = Decode[pred]\n",
    "    \n",
    "    # return\n",
    "    return ans \n"
   ]
  },
  {
   "cell_type": "markdown",
   "id": "9a9e56d6-8102-46b7-a33b-c6398d4fb070",
   "metadata": {},
   "source": [
    "# Sentence Reconstruction"
   ]
  },
  {
   "cell_type": "code",
   "execution_count": 638,
   "id": "7ad1651a-eb13-4cf4-b33f-46d0a0a61a66",
   "metadata": {},
   "outputs": [],
   "source": [
    "# tolerence + video\n",
    "def reconstruct_sentence(V, d):\n",
    "    # initialize\n",
    "    Frames = V.frames\n",
    "    \n",
    "    # pass 1 - store sucessive letter counts to a list\n",
    "    ans = []\n",
    "    letter = ''\n",
    "    for i in Frames:\n",
    "        x = predict(V,i)\n",
    "        if not letter or x in letter: \n",
    "            letter += x \n",
    "        else: \n",
    "            ans += [ letter ]\n",
    "            letter = x\n",
    "    ans += [ letter ] \n",
    "    \n",
    "    # pass 2 - For a give tolerence d, change any letters that occur on less than d consecutive frames to '?'\n",
    "    ans0 = []\n",
    "    for i in ans:\n",
    "        k = len(i)\n",
    "        if d < k: \n",
    "            ans0 += [i]\n",
    "        else:\n",
    "            y = '?' * k\n",
    "            if ans0 and '?' in ans0[-1]: \n",
    "                ans0[-1] += y\n",
    "            else:\n",
    "                ans0 += [ y ]\n",
    "    \n",
    "    print(ans0)\n",
    "            \n",
    "    # pass 3 condennse to single letters\n",
    "    ans1 = ''.join([ i[0] for i in ans if d < len(i) ])\n",
    "    \n",
    "    # return \n",
    "    return ans1\n",
    "        "
   ]
  },
  {
   "cell_type": "code",
   "execution_count": 639,
   "id": "e52804bc-a412-4f55-a4f8-3b93b5cac7f8",
   "metadata": {},
   "outputs": [
    {
     "name": "stdout",
     "output_type": "stream",
     "text": [
      "['??', 'kkkkkkkkkkkkkkkkkkkkkk', 'nnnnnnn', 'eeeeeeeee', 'bbbbbb', '??', 'ooooo', 'nnnnn', 'eeeeeee', 'iiiiii', '??', 'sss', '??', 'ccccccccc', 'ooooo', 'nnnnnnnnnnnnnnnnnn', 'eeeeee', 'cccccccc', '?', 'tttt', '?', 'eeeeee', '??', 'ddddddd', 'tttt', '?', 'ooooooo', '?', 'ttttt', '?', 'hhhhh', '?', 'eeeee', '???', 'ttttttttt', '?', 'hhhhhhh', 'iiiiiii', '?', 'sss', '??', 'hhhhhhhhhhhh', '?', 'bbbbbbbbb', '?', 'oooo', 'nnnnn', 'eeeeeeee', 'jjj']\n"
     ]
    },
    {
     "data": {
      "text/plain": [
       "'kneboneisconectedtothethishbonej'"
      ]
     },
     "execution_count": 639,
     "metadata": {},
     "output_type": "execute_result"
    }
   ],
   "source": [
    "reconstruct_sentence(V,2)"
   ]
  },
  {
   "cell_type": "code",
   "execution_count": 626,
   "id": "a279f218-0214-470f-8673-0ffb0b24d828",
   "metadata": {},
   "outputs": [
    {
     "name": "stdout",
     "output_type": "stream",
     "text": [
      "hi\n"
     ]
    }
   ],
   "source": [
    "\"\"\"\n",
    "# Scrolling through image frames\n",
    "def show_frame(frame):\n",
    "    frame = Hframes[frame]\n",
    "    landmarks = get_landmarks_data(frame)\n",
    "    landmarks.face_landmarks = Landmark_make_nan(landmarks.face_landmarks)\n",
    "    landmarks.pose_landmarks = Landmark_make_nan(landmarks.pose_landmarks)\n",
    "    if dominant_hand == 'left':\n",
    "        landmarks.right_hand_landmarks = reflect(landmarks.left_hand_landmarks)\n",
    "        landmarks.left_hand_landmarks = Landmark_make_nan(landmarks.left_hand_landmarks)\n",
    "    landmarks.right_hand_landmarks = shift( center( landmarks.right_hand_landmarks, frame), np.array([.5,.7,0]))\n",
    "    # show_image(draw_landmarks(landmarks,annotated_image),figsize=(9,9),title=f'Tflow Prediction: {predict(frame):10} Actual: {prediction(frame):10} frame: {frames[frame]} [{frame+1} of {len(frames)}]')\n",
    "    show_image(draw_landmarks(landmarks,annotated_image),figsize=(9,9),title=f'Tflow Prediction: {predict(frame):10} {phrase:30} frame: {frames[frame]} [{frame+1} of {len(frames)}]')\n",
    "    #print(f'showing frame: {frames[frame]}')\n",
    "\n",
    "\n",
    "interact(show_frame, frame=widgets.IntSlider(min=0, max=len(Hframes)-1, step=1, value=0, layout=widgets.Layout(width='1000px')))\n",
    "\"\"\"\n"
   ]
  },
  {
   "cell_type": "markdown",
   "id": "56003c49-4d71-4a47-b0c3-25d605af1d76",
   "metadata": {},
   "source": [
    "# Scripts for computing data "
   ]
  },
  {
   "cell_type": "markdown",
   "id": "9811349f-5437-4c60-afd9-5ead3b9b5cd8",
   "metadata": {},
   "source": [
    "# storing nice values for x,y,z"
   ]
  },
  {
   "cell_type": "code",
   "execution_count": null,
   "id": "24ae5dbe-73a8-444c-9faa-b0eecc905bb0",
   "metadata": {},
   "outputs": [],
   "source": [
    "'''\n",
    "file = '33432165'\n",
    "frame = 47\n",
    "s = Video_ID[4] \n",
    "annotated_image = np.zeros((1024,1024,3),dtype=np.uint8)\n",
    "landmarks = get_landmarks_data(frame)\n",
    "show_image(draw_landmarks(landmarks,annotated_image))\n",
    "X = fix_z(landmarks.right_hand_landmarks)\n",
    "\n",
    "# Centering\n",
    "X0 = Landmark_vector(X,0) # base\n",
    "X1 = Landmark_vector(X,1) # left \n",
    "X5 = Landmark_vector(X,5) # center left \n",
    "X9 = Landmark_vector(X,9) # center\n",
    "X13 = Landmark_vector(X,13) # center right\n",
    "X17 = Landmark_vector(X,17) # right\n",
    "\n",
    "# correct z\n",
    "# X2[2] = predict_z( X2, Landmark_vector(X,10), Landmark_vector(X,11), Landmark_vector(X,12) )\n",
    "# X2[2] = X.landmark[10].z  \n",
    "    \n",
    "# Basis 1\n",
    "V1, V5, V9, V13, V17 = X1-X0, X5-X0, X9-X0, X13-X0, X17-X0\n",
    "\n",
    "print( V1, V5, V9, V13, V17 ) \n",
    "'''"
   ]
  },
  {
   "cell_type": "markdown",
   "id": "8ab8d73a-d0dd-47c1-950c-104242d52ceb",
   "metadata": {},
   "source": [
    "# Collecting complete videos"
   ]
  },
  {
   "cell_type": "code",
   "execution_count": 621,
   "id": "defdce26-37ce-49dc-bdec-58a3d29bef8f",
   "metadata": {},
   "outputs": [
    {
     "data": {
      "text/plain": [
       "'\\nGoodL, GoodR = [],[]\\nfor j,x in enumerate(Video_ID):\\n    \\n    data = dataset.loc[x]\\n    data_labels = dataset_labels.loc[dataset_labels[\\'sequence_id\\'] == x ]\\n    \\n    # All frames\\n    frames = data.frame.unique()\\n\\n    # Right / Left hand frames\\n    Lframes = [i for i in frames if not Landmark_is_nan(get_landmarks(\\'left_hand\\',i))]\\n    Rframes = [i for i in frames if not Landmark_is_nan(get_landmarks(\\'right_hand\\',i))]\\n    \\n    # Dominant hand \\n    if len(Lframes) < len(Rframes):\\n        Hframes = Rframes\\n        dominant_hand = \"right\"\\n    else:\\n        Hframes = Lframes\\n        dominant_hand = \"left\"\\n    \\n    print(\"Signer in %sth sequence is %s-handed and we have %s hand frames which comprise %s%% of the frames\" % (j, dominant_hand, len(Hframes), round(100 * len(Hframes) / len(frames), 2)))\\n    if len(Hframes) == len(frames):\\n          if dominant_hand == \\'right\\': GoodR += [j]\\n          else: GoodL += [j]\\n'"
      ]
     },
     "execution_count": 621,
     "metadata": {},
     "output_type": "execute_result"
    }
   ],
   "source": [
    "# Select video data\n",
    "'''\n",
    "GoodL, GoodR = [],[]\n",
    "for j,x in enumerate(Video_ID):\n",
    "    \n",
    "    data = dataset.loc[x]\n",
    "    data_labels = dataset_labels.loc[dataset_labels['sequence_id'] == x ]\n",
    "    \n",
    "    # All frames\n",
    "    frames = data.frame.unique()\n",
    "\n",
    "    # Right / Left hand frames\n",
    "    Lframes = [i for i in frames if not Landmark_is_nan(get_landmarks('left_hand',i))]\n",
    "    Rframes = [i for i in frames if not Landmark_is_nan(get_landmarks('right_hand',i))]\n",
    "    \n",
    "    # Dominant hand \n",
    "    if len(Lframes) < len(Rframes):\n",
    "        Hframes = Rframes\n",
    "        dominant_hand = \"right\"\n",
    "    else:\n",
    "        Hframes = Lframes\n",
    "        dominant_hand = \"left\"\n",
    "    \n",
    "    print(\"Signer in %sth sequence is %s-handed and we have %s hand frames which comprise %s%% of the frames\" % (j, dominant_hand, len(Hframes), round(100 * len(Hframes) / len(frames), 2)))\n",
    "    if len(Hframes) == len(frames):\n",
    "          if dominant_hand == 'right': GoodR += [j]\n",
    "          else: GoodL += [j]\n",
    "''' "
   ]
  },
  {
   "cell_type": "code",
   "execution_count": 360,
   "id": "5d71665d-ff80-4605-94e1-3b2a8b6096ad",
   "metadata": {},
   "outputs": [],
   "source": [
    "Vids = [ video(VideoID[i]) for i in GoodR ]"
   ]
  },
  {
   "cell_type": "code",
   "execution_count": 361,
   "id": "a4f22205-e5f7-4405-8be3-1284b0fa965f",
   "metadata": {},
   "outputs": [],
   "source": [
    "#[print(i) for i in Vids]\n",
    "Goodchars = set(sum([[j[0] for j in i.characters] for i in Vids], []))"
   ]
  },
  {
   "cell_type": "code",
   "execution_count": 362,
   "id": "2592f1b9-3580-4bec-8058-e15cf47a33fb",
   "metadata": {},
   "outputs": [],
   "source": [
    "GoodFrames = [ normal_hand_data(i) for i in Vids]"
   ]
  },
  {
   "cell_type": "code",
   "execution_count": 363,
   "id": "e324652f-c3fb-4c8e-8408-c11aaec2401e",
   "metadata": {},
   "outputs": [],
   "source": [
    "F = sum([i[0] for i in GoodFrames], [])"
   ]
  },
  {
   "cell_type": "code",
   "execution_count": 364,
   "id": "f2328fc9-6ad4-4834-baf7-e1c89cc1f6ec",
   "metadata": {},
   "outputs": [
    {
     "data": {
      "text/html": [
       "<style>#sk-container-id-4 {color: black;background-color: white;}#sk-container-id-4 pre{padding: 0;}#sk-container-id-4 div.sk-toggleable {background-color: white;}#sk-container-id-4 label.sk-toggleable__label {cursor: pointer;display: block;width: 100%;margin-bottom: 0;padding: 0.3em;box-sizing: border-box;text-align: center;}#sk-container-id-4 label.sk-toggleable__label-arrow:before {content: \"▸\";float: left;margin-right: 0.25em;color: #696969;}#sk-container-id-4 label.sk-toggleable__label-arrow:hover:before {color: black;}#sk-container-id-4 div.sk-estimator:hover label.sk-toggleable__label-arrow:before {color: black;}#sk-container-id-4 div.sk-toggleable__content {max-height: 0;max-width: 0;overflow: hidden;text-align: left;background-color: #f0f8ff;}#sk-container-id-4 div.sk-toggleable__content pre {margin: 0.2em;color: black;border-radius: 0.25em;background-color: #f0f8ff;}#sk-container-id-4 input.sk-toggleable__control:checked~div.sk-toggleable__content {max-height: 200px;max-width: 100%;overflow: auto;}#sk-container-id-4 input.sk-toggleable__control:checked~label.sk-toggleable__label-arrow:before {content: \"▾\";}#sk-container-id-4 div.sk-estimator input.sk-toggleable__control:checked~label.sk-toggleable__label {background-color: #d4ebff;}#sk-container-id-4 div.sk-label input.sk-toggleable__control:checked~label.sk-toggleable__label {background-color: #d4ebff;}#sk-container-id-4 input.sk-hidden--visually {border: 0;clip: rect(1px 1px 1px 1px);clip: rect(1px, 1px, 1px, 1px);height: 1px;margin: -1px;overflow: hidden;padding: 0;position: absolute;width: 1px;}#sk-container-id-4 div.sk-estimator {font-family: monospace;background-color: #f0f8ff;border: 1px dotted black;border-radius: 0.25em;box-sizing: border-box;margin-bottom: 0.5em;}#sk-container-id-4 div.sk-estimator:hover {background-color: #d4ebff;}#sk-container-id-4 div.sk-parallel-item::after {content: \"\";width: 100%;border-bottom: 1px solid gray;flex-grow: 1;}#sk-container-id-4 div.sk-label:hover label.sk-toggleable__label {background-color: #d4ebff;}#sk-container-id-4 div.sk-serial::before {content: \"\";position: absolute;border-left: 1px solid gray;box-sizing: border-box;top: 0;bottom: 0;left: 50%;z-index: 0;}#sk-container-id-4 div.sk-serial {display: flex;flex-direction: column;align-items: center;background-color: white;padding-right: 0.2em;padding-left: 0.2em;position: relative;}#sk-container-id-4 div.sk-item {position: relative;z-index: 1;}#sk-container-id-4 div.sk-parallel {display: flex;align-items: stretch;justify-content: center;background-color: white;position: relative;}#sk-container-id-4 div.sk-item::before, #sk-container-id-4 div.sk-parallel-item::before {content: \"\";position: absolute;border-left: 1px solid gray;box-sizing: border-box;top: 0;bottom: 0;left: 50%;z-index: -1;}#sk-container-id-4 div.sk-parallel-item {display: flex;flex-direction: column;z-index: 1;position: relative;background-color: white;}#sk-container-id-4 div.sk-parallel-item:first-child::after {align-self: flex-end;width: 50%;}#sk-container-id-4 div.sk-parallel-item:last-child::after {align-self: flex-start;width: 50%;}#sk-container-id-4 div.sk-parallel-item:only-child::after {width: 0;}#sk-container-id-4 div.sk-dashed-wrapped {border: 1px dashed gray;margin: 0 0.4em 0.5em 0.4em;box-sizing: border-box;padding-bottom: 0.4em;background-color: white;}#sk-container-id-4 div.sk-label label {font-family: monospace;font-weight: bold;display: inline-block;line-height: 1.2em;}#sk-container-id-4 div.sk-label-container {text-align: center;}#sk-container-id-4 div.sk-container {/* jupyter's `normalize.less` sets `[hidden] { display: none; }` but bootstrap.min.css set `[hidden] { display: none !important; }` so we also need the `!important` here to be able to override the default hidden behavior on the sphinx rendered scikit-learn.org. See: https://github.com/scikit-learn/scikit-learn/issues/21755 */display: inline-block !important;position: relative;}#sk-container-id-4 div.sk-text-repr-fallback {display: none;}</style><div id=\"sk-container-id-4\" class=\"sk-top-container\"><div class=\"sk-text-repr-fallback\"><pre>KMeans(max_iter=100, n_clusters=25, n_init=10)</pre><b>In a Jupyter environment, please rerun this cell to show the HTML representation or trust the notebook. <br />On GitHub, the HTML representation is unable to render, please try loading this page with nbviewer.org.</b></div><div class=\"sk-container\" hidden><div class=\"sk-item\"><div class=\"sk-estimator sk-toggleable\"><input class=\"sk-toggleable__control sk-hidden--visually\" id=\"sk-estimator-id-4\" type=\"checkbox\" checked><label for=\"sk-estimator-id-4\" class=\"sk-toggleable__label sk-toggleable__label-arrow\">KMeans</label><div class=\"sk-toggleable__content\"><pre>KMeans(max_iter=100, n_clusters=25, n_init=10)</pre></div></div></div></div></div>"
      ],
      "text/plain": [
       "KMeans(max_iter=100, n_clusters=25, n_init=10)"
      ]
     },
     "execution_count": 364,
     "metadata": {},
     "output_type": "execute_result"
    }
   ],
   "source": [
    "k = len(Goodchars)\n",
    "model = KMeans(n_clusters = k, n_init = 10, max_iter = 100)\n",
    "data = np.array(F).reshape(len(F), -1) \n",
    "model.fit(data)"
   ]
  },
  {
   "cell_type": "code",
   "execution_count": 365,
   "id": "436bfb08-b3cc-4622-b69f-32848481834d",
   "metadata": {},
   "outputs": [],
   "source": [
    "centroids = [i.reshape(20,3) for i in model.cluster_centers_]"
   ]
  },
  {
   "cell_type": "code",
   "execution_count": 366,
   "id": "a3230585-3d92-490c-92ef-67e40e8e46b5",
   "metadata": {},
   "outputs": [
    {
     "data": {
      "text/plain": [
       "array([[ 0.05233462, -0.0240227 ,  0.00271979],\n",
       "       [ 0.08809012, -0.05999282,  0.00791376],\n",
       "       [ 0.10096359, -0.08744536,  0.00163861],\n",
       "       [ 0.10080147, -0.10537497, -0.00779836],\n",
       "       [ 0.04130521, -0.09443814,  0.01054879],\n",
       "       [ 0.06543527, -0.11884976, -0.00761136],\n",
       "       [ 0.0807842 , -0.11327371, -0.01778912],\n",
       "       [ 0.08748244, -0.10718146, -0.02153242],\n",
       "       [ 0.00946415, -0.09018274, -0.00661085],\n",
       "       [ 0.04290889, -0.10752123, -0.0297432 ],\n",
       "       [ 0.05944271, -0.08307627, -0.03463637],\n",
       "       [ 0.06187606, -0.06519644, -0.03196821],\n",
       "       [-0.01967253, -0.08046315, -0.02715335],\n",
       "       [ 0.0156788 , -0.09283737, -0.05102388],\n",
       "       [ 0.03072455, -0.06902117, -0.04373665],\n",
       "       [ 0.03097896, -0.05269207, -0.03177697],\n",
       "       [-0.04786747, -0.06625001, -0.04892118],\n",
       "       [-0.0211585 , -0.07961877, -0.06325546],\n",
       "       [-0.00665645, -0.06915531, -0.05417681],\n",
       "       [-0.00382645, -0.06164394, -0.04349613]])"
      ]
     },
     "execution_count": 366,
     "metadata": {},
     "output_type": "execute_result"
    }
   ],
   "source": [
    "centroids[0]"
   ]
  },
  {
   "cell_type": "code",
   "execution_count": 367,
   "id": "811072a8-7328-450c-8fc3-588bbb8d2e72",
   "metadata": {},
   "outputs": [],
   "source": [
    "def landmark_from_hand_data(c):\n",
    "    \n",
    "    # create a blank landmark\n",
    "    X = blank()\n",
    "    \n",
    "    # create new landmark for left hand \n",
    "    obj = landmark_pb2.LandmarkList()\n",
    "    \n",
    "    # fill in new landmark\n",
    "    obj.landmark.add( x=0, y=0, z=0 ) # origin is wrist\n",
    "    for v in c: obj.landmark.add( x=v[0], y=v[1], z=v[2] ) # add other landmarks\n",
    "    \n",
    "    # set left hand to be obj\n",
    "    X.left_hand_landmarks = obj\n",
    "    X.left_hand_landmarks = shift(X.left_hand_landmarks, np.array([.5,.7,0]))\n",
    "    \n",
    "    return X   "
   ]
  },
  {
   "cell_type": "code",
   "execution_count": 390,
   "id": "b11fd914-8ec8-4b8e-871d-303174b6f3f1",
   "metadata": {},
   "outputs": [
    {
     "data": {
      "text/plain": [
       "<Axes: >"
      ]
     },
     "execution_count": 390,
     "metadata": {},
     "output_type": "execute_result"
    },
    {
     "data": {
      "image/png": "[encoded data removed]",
      "text/plain": [
       "<Figure size 500x500 with 1 Axes>"
      ]
     },
     "metadata": {},
     "output_type": "display_data"
    }
   ],
   "source": [
    "annotated_image = np.zeros((1024,1024,3),dtype=np.uint8)\n",
    "landmarks = landmark_from_hand_data(centroids[14])\n",
    "show_image(draw_landmarks(landmarks,annotated_image))"
   ]
  },
  {
   "cell_type": "markdown",
   "id": "72d182f4-a052-49e4-9f72-b884e415e82b",
   "metadata": {},
   "source": [
    "# Extras"
   ]
  },
  {
   "cell_type": "code",
   "execution_count": null,
   "id": "4f0d95ec-74bd-4bf5-9471-632a11fe2816",
   "metadata": {},
   "outputs": [],
   "source": [
    "'''\n",
    "#########################################\n",
    "#### Measurements using hand model ######\n",
    "#########################################\n",
    "\n",
    "import sympy \n",
    "frame = 128\n",
    "annotated_image = np.zeros((1024,1024,3),dtype=np.uint8)\n",
    "landmarks = get_landmarks_data(frame)\n",
    "\n",
    "# Triangle for hand \n",
    "X = landmarks.right_hand_landmarks\n",
    "\n",
    "# z-prediction\n",
    "from sympy import *\n",
    "from sympy import sqrt\n",
    "z1, z2 = symbols('z1, z2')\n",
    "\n",
    "Measurements = {\n",
    " (0, 1) : 0.19917,\n",
    " (1, 2) : 0.18034,\n",
    " (2, 3) : 0.12843,\n",
    " (3, 4) : 0.09624,\n",
    " (0, 5) : 0.41711,\n",
    " (5, 6) : 0.16196,\n",
    " (6, 7) : 0.10277,\n",
    " (7, 8) : 0.08568,\n",
    " (0, 9) : 0.40355,\n",
    " (9, 10) : 0.18095,\n",
    " (10, 11) : 0.11845,\n",
    " (11, 12) : 0.09565,\n",
    " (0, 13) : 0.3855,\n",
    " (13, 14) : 0.16929,\n",
    " (14, 15) : 0.10963,\n",
    " (15, 16) : 0.09177,\n",
    " (0, 17) : 0.37061,\n",
    " (17, 18) : 0.13211,\n",
    " (18, 19) : 0.08178,\n",
    " (19, 20) : 0.07294 }\n",
    "\n",
    "# z-prediction - given points \n",
    "def triangle_prediction(X,Y):\n",
    "    \n",
    "    # dummy variable for z value of X,Y\n",
    "    V = [ X[0], X[1], z1 ] \n",
    "    W = [ Y[0], Y[1], z2 ]\n",
    "    \n",
    "    # Create Equations\n",
    "    E1 = Eq( np.dot(V,W), sqrt(np.dot(V,V) * np.dot(W,W)) * (0.6781246776238563) ) # dot product a * b = |a||b| cos( theta )\n",
    "    E2 = Eq( np.dot(V,V), np.dot(W,W) * (1.1254837879588218)**2 ) # Ratio\n",
    "    \n",
    "    # set determinant = 0 and solve \n",
    "    ans = list(nonlinsolve([E1,E2], [z1, z2]))\n",
    "    # print(ans)\n",
    "    \n",
    "    # new z-coordinates\n",
    "    z1_new, z2_new = float(ans[0][0]), float(ans[0][1])\n",
    "    \n",
    "    # return\n",
    "    return z1_new, z2_new \n",
    "\n",
    "\n",
    "def fix_z(X):\n",
    "    \n",
    "    # shift to origin\n",
    "    X = shift( X, np.array([0, 0, 0]) )\n",
    "    \n",
    "    ### Fundamental triangle 0--5--17\n",
    "    # Build new (0,5) and (0,17) vectors\n",
    "    X5, X17 = Landmark_vector(X, 5), Landmark_vector(X, 17) \n",
    "    X5[2], X17[2] = triangle_prediction(X5,X17)\n",
    "    # print(X5[2], X17[2])\n",
    "      \n",
    "    # initialize measurements\n",
    "    base = np.linalg.norm(X5)\n",
    "    measurement_base = Measurements[(0,5)]\n",
    "    \n",
    "    # initizalize obj\n",
    "    obj = landmark_pb2.LandmarkList()\n",
    "    obj.landmark.add( x=0, y=0, z=0 ) # set 0 landmark to origin\n",
    "    \n",
    "    # loop \n",
    "    for i,j in Measurements:\n",
    "        if (i,j) == (0,5): \n",
    "            obj.landmark.add( x=X5[0], y=X5[1], z=X5[2])\n",
    "        elif (i,j) == (0,17):\n",
    "            obj.landmark.add( x=X17[0], y=X17[1], z=X17[2] )\n",
    "        else:\n",
    "            # vector connecting i and j (use variable for z)\n",
    "            Xi, Xj = Landmark_vector(obj, i), Landmark_vector(X, j)\n",
    "            V = Xj - Xi\n",
    "            V = [V[0], V[1], z1]\n",
    "            \n",
    "            # Equation\n",
    "            E = Eq( sqrt(np.dot(V,V)) / base, Measurements[(i,j)] / measurement_base )\n",
    "\n",
    "            # solution \n",
    "            corr = list(solveset(E, z1))\n",
    "            # print( j, corr, Xj[2], Xi[2] + corr[0])\n",
    "            \n",
    "            corr = corr[0]\n",
    "                  \n",
    "            # convert to float if real, else set to 0\n",
    "            corr = float(corr) if corr.is_real else 0\n",
    "\n",
    "            # set coordinates\n",
    "            obj.landmark.add( x=Xj[0], y=Xj[1], z=Xi[2] + corr )\n",
    "    \n",
    "    return obj\n",
    "        \n",
    "\n",
    "# Recenters a hand based on the outer landmarks \n",
    "def centered(X, frame):\n",
    "    \n",
    "    # if not defined\n",
    "    if Landmark_is_nan(X): return X\n",
    "\n",
    "    # Centering\n",
    "    X0 = Landmark_vector(X,0) # base\n",
    "    X1 = Landmark_vector(X,1) # left \n",
    "    X5 = Landmark_vector(X,5) # center left \n",
    "    X9 = Landmark_vector(X,9) # center\n",
    "    X13 = Landmark_vector(X,13) # center right\n",
    "    X17 = Landmark_vector(X,17) # right \n",
    "        \n",
    "    # Possible basis vectors \n",
    "    Base = [ (1, X1-X0), (5, X5-X0), (9, X9-X0), (13, X13-X0), (17, X17-X0) ] \n",
    "    \n",
    "    # Sort basis vectors by z-coordinates\n",
    "    Base = sorted( Base, key=lambda x: x[1][2] )\n",
    "    \n",
    "    # Select vectors \n",
    "    L = [ Base[0] ] + [ sorted(Base[1:4], key=lambda x: abs(x[1][2] - Base[0][1][2]) * abs(x[1][2] - Base[4][1][2]))[2] ] + [ Base[4] ] \n",
    "    \n",
    "    print(L)\n",
    "    \n",
    "    D = { \n",
    "    1  : [ 0.06816408, -0.02943546,  0.        ], \n",
    "    5  : [ 0.04396006, -0.13104451, -0.01766506], \n",
    "    9  : [ 0.00693706, -0.12849939, -0.04018739], \n",
    "    13 : [-0.02584845, -0.11831534, -0.04380703],\n",
    "    17 : [-0.05505851, -0.10182643, -0.04391743] }\n",
    "    \n",
    "    # Basis Matrices\n",
    "    A, B = np.array([i[1] for i in L]),  np.array([ D[i[0]] for i in L ])\n",
    "    A1, B1 = np.array([ i[1] for i in Base[0:3]]),  np.array([ D[i] for i in [1,5,9]])\n",
    "    print(A1,B1)\n",
    "    \n",
    "    # Transformation\n",
    "    C = (np.linalg.inv(A)).dot(B)\n",
    "    C1 = (np.linalg.inv(A1)).dot(B1)\n",
    "    \n",
    "    print(np.linalg.det(C), np.linalg.det(C1))\n",
    "    # print( np.linalg.det(C), (np.linalg.norm(V5) / np.linalg.norm(V17) ), np.dot(V5,V17) / (np.linalg.norm(V5) * np.linalg.norm(V17))  )\n",
    "    \n",
    "    obj = landmark_pb2.LandmarkList()\n",
    "    for i in X.landmark:\n",
    "            \n",
    "            # form vector\n",
    "            v = np.array([i.x,i.y,i.z])\n",
    "            \n",
    "            # affine shift\n",
    "            v = v - X0\n",
    "            \n",
    "            # linear transformation\n",
    "            v = v.dot(C)\n",
    "            \n",
    "            # set coordinates\n",
    "            obj.landmark.add( x=v[0], y=v[1], z=v[2] )\n",
    "            \n",
    "    return obj       \n",
    "\n",
    "#########################################\n",
    "###### Entropy (letter from phrase) #####\n",
    "#########################################\n",
    "\n",
    "sphrase = phrase.replace(\" \", \"\")\n",
    "\n",
    "def letter_predict(frame):\n",
    "    i = math.floor( len(phrase) * frame / len(frames) ) \n",
    "    return phrase[i]\n",
    "\n",
    "def letter_prediction(frame):\n",
    "    i = bisect.bisect_left(T,frame)\n",
    "    if len(sphrase) <= i: i = len(sphrase)-1\n",
    "    return sphrase[i]\n",
    "\n",
    "# fingers\n",
    "hand_obj = { 'thumb' : [1,2,3,4], 'pointer' : [6,7,8], 'middle' : [10,11,12], 'ring' : [14,15,16], 'pinky' : [18,19,20], 'palm' : [0,5,9,13,17] }\n",
    "\n",
    "# measure the sum of the distances between handlandmarks in any two frames \n",
    "def entropy(frame):\n",
    "    \n",
    "    L = []\n",
    "    for frame in frames:\n",
    "    \n",
    "        # select hand landmarks from frame\n",
    "        if dominant_hand == 'right': X = center( get_landmarks_data(frame).right_hand_landmarks, frame )\n",
    "        else: X = center( get_landmarks_data(frame).left_hand_landmarks, frame )\n",
    "    \n",
    "        # check if defined\n",
    "        if Landmark_is_nan(X): continue\n",
    "        \n",
    "        Eb, Ef = {}, {}\n",
    "        for obj in hand_obj:\n",
    "        \n",
    "            # loop over landmarks and add to entropy\n",
    "            db, df = 0, 0\n",
    "            for i in hand_obj[obj]:\n",
    "            \n",
    "                # a = coordinates of i^th landmark in frame,  b = coordinate of i^th landmark in (frame - 1)\n",
    "                a = Landmark_vector(X,i) \n",
    "                b = Landmark_vector(Y,i)\n",
    "                c = Landmark_vector(Z,i) \n",
    "            \n",
    "                # remove z-values\n",
    "                a[2], b[2], c[2] = 0,0,0\n",
    "            \n",
    "                # distance \n",
    "                db += np.linalg.norm(a-b,2)\n",
    "                df += np.linalg.norm(b-c,2)\n",
    "            \n",
    "            # add to entropy\n",
    "            Eb[obj] = db\n",
    "            Ef[obj] = df\n",
    "    \n",
    "    # total entropy\n",
    "    teb = round( sum(Eb[i] for i in Eb) * 100 , 3 )\n",
    "    tef = round( sum(Ef[i] for i in Ef) * 100 , 3 )\n",
    "    \n",
    "    # total entropy\n",
    "    total_entropy = min(teb,tef)\n",
    "    \n",
    "    # print(\"heyo\", teb, tef)\n",
    "   \n",
    "    # return entropy\n",
    "    return total_entropy\n",
    "'''        \n",
    "        "
   ]
  },
  {
   "cell_type": "code",
   "execution_count": null,
   "id": "b70a0f0b-6c1f-4043-ab82-f1d07a63b345",
   "metadata": {},
   "outputs": [],
   "source": [
    "'''\n",
    "# List all characters from sentence\n",
    "# characters = V.characters\n",
    "# frames = V.frames\n",
    "\n",
    "# Good frames\n",
    "# GoodFrames = [i for i in frames if prediction(V,i) != '?']\n",
    "\n",
    "# training data\n",
    "# train_data = [ V.normal_hand_data + V.hand_position for i in GoodFrames]\n",
    "# train_predictions = [ Encode[prediction(V,i)] for i in GoodFrames ]\n",
    "train_x, train_y = pickles\n",
    "train_y = [ Encode[i] for i in train_y ]\n",
    "\n",
    "# Model\n",
    "k = len( Characters )\n",
    "M = tf.keras.Sequential([\n",
    "    tf.keras.layers.Flatten(input_shape=(20, 3)),\n",
    "    tf.keras.layers.Dense(6*k, activation='relu'),\n",
    "    tf.keras.layers.Dense(k)])\n",
    "\n",
    "# Compile Model\n",
    "M.compile(optimizer='adam', loss=tf.keras.losses.SparseCategoricalCrossentropy(from_logits=True), metrics=['accuracy'])\n",
    "\n",
    "# fit model\n",
    "M.fit( train_x , train_y, epochs = 100, verbose=0 )\n",
    "'''"
   ]
  }
 ],
 "metadata": {
  "kernelspec": {
   "display_name": "Python 3 (ipykernel)",
   "language": "python",
   "name": "python3"
  },
  "language_info": {
   "codemirror_mode": {
    "name": "ipython",
    "version": 3
   },
   "file_extension": ".py",
   "mimetype": "text/x-python",
   "name": "python",
   "nbconvert_exporter": "python",
   "pygments_lexer": "ipython3",
   "version": "3.10.9"
  }
 },
 "nbformat": 4,
 "nbformat_minor": 5
}
